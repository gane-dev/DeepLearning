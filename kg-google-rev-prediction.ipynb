{
 "cells": [
  {
   "cell_type": "markdown",
   "metadata": {},
   "source": [
    "https://www.kaggle.com/c/ga-customer-revenue-prediction"
   ]
  },
  {
   "cell_type": "code",
   "execution_count": 1,
   "metadata": {},
   "outputs": [],
   "source": [
    "import os # it's a operational system library, to set some informations\n",
    "import random # random is to generate random values"
   ]
  },
  {
   "cell_type": "code",
   "execution_count": 2,
   "metadata": {},
   "outputs": [],
   "source": [
    "import pandas as pd # to manipulate data frames \n",
    "import numpy as np # to work with matrix\n",
    "from scipy.stats import kurtosis, skew # it's to explore some statistics of numerical values\n"
   ]
  },
  {
   "cell_type": "code",
   "execution_count": 5,
   "metadata": {},
   "outputs": [],
   "source": [
    "import matplotlib.pyplot as plt # to graphics plot\n",
    "import seaborn as sns # a good library to graphic plots\n",
    "import squarify # to better understand proportion of categorys - it's a treemap layout algorithm"
   ]
  },
  {
   "cell_type": "code",
   "execution_count": null,
   "metadata": {},
   "outputs": [],
   "source": [
    "# !pip install squarify\n",
    "# !pip install plotly"
   ]
  },
  {
   "cell_type": "code",
   "execution_count": 8,
   "metadata": {},
   "outputs": [],
   "source": [
    "from plotly.offline import init_notebook_mode, iplot, plot \n",
    "import plotly.graph_objs as go "
   ]
  },
  {
   "cell_type": "code",
   "execution_count": 9,
   "metadata": {},
   "outputs": [],
   "source": [
    "import json # to convert json in df\n",
    "from pandas.io.json import json_normalize # to normalize the json fi"
   ]
  },
  {
   "cell_type": "code",
   "execution_count": 31,
   "metadata": {},
   "outputs": [],
   "source": [
    "from os import path\n",
    "from fastai.text import *"
   ]
  },
  {
   "cell_type": "code",
   "execution_count": 10,
   "metadata": {},
   "outputs": [
    {
     "data": {
      "text/html": [
       "<script type=\"text/javascript\">window.PlotlyConfig = {MathJaxConfig: 'local'};</script><script type=\"text/javascript\">if (window.MathJax) {MathJax.Hub.Config({SVG: {font: \"STIX-Web\"}});}</script><script>requirejs.config({paths: { 'plotly': ['https://cdn.plot.ly/plotly-latest.min']},});if(!window._Plotly) {require(['plotly'],function(plotly) {window._Plotly=plotly;});}</script>"
      ],
      "text/vnd.plotly.v1+html": [
       "<script type=\"text/javascript\">window.PlotlyConfig = {MathJaxConfig: 'local'};</script><script type=\"text/javascript\">if (window.MathJax) {MathJax.Hub.Config({SVG: {font: \"STIX-Web\"}});}</script><script>requirejs.config({paths: { 'plotly': ['https://cdn.plot.ly/plotly-latest.min']},});if(!window._Plotly) {require(['plotly'],function(plotly) {window._Plotly=plotly;});}</script>"
      ]
     },
     "metadata": {},
     "output_type": "display_data"
    }
   ],
   "source": [
    "# to set a style to all graphs\n",
    "plt.style.use('fivethirtyeight')\n",
    "init_notebook_mode(connected=True)"
   ]
  },
  {
   "cell_type": "code",
   "execution_count": 11,
   "metadata": {},
   "outputs": [],
   "source": [
    "columns = ['device', 'geoNetwork', 'totals', 'trafficSource']"
   ]
  },
  {
   "cell_type": "code",
   "execution_count": 35,
   "metadata": {},
   "outputs": [],
   "source": [
    "PATH=Path('data/kg-google/')"
   ]
  },
  {
   "cell_type": "code",
   "execution_count": 21,
   "metadata": {},
   "outputs": [],
   "source": [
    "p=0.07"
   ]
  },
  {
   "cell_type": "code",
   "execution_count": 47,
   "metadata": {},
   "outputs": [],
   "source": [
    "def json_read(filename):\n",
    "    df = pd.read_csv(PATH/filename,\n",
    "                     converters={column: json.loads for column in columns},\n",
    "                     dtype={'fullVisitorId': 'str'},\n",
    "                     skiprows=lambda i : i> 0 and random.random() > p)\n",
    "    \n",
    "    for column in columns:\n",
    "        column_as_df = json_normalize(df[column])\n",
    "        column_as_df.columns = [f'{column}.{subcolumn}' for subcolumn in  column_as_df.columns]\n",
    "        df = df.drop(column,axis=1).merge(column_as_df,right_index=True,left_index=True)\n",
    "        \n",
    "#     print(f'Loaded {os,path.basename(data_frame)}. Shape: {df.shape}')\n",
    "    return df    "
   ]
  },
  {
   "cell_type": "code",
   "execution_count": 48,
   "metadata": {},
   "outputs": [],
   "source": [
    "df_train = json_read('train_v2.csv')"
   ]
  },
  {
   "cell_type": "code",
   "execution_count": 49,
   "metadata": {},
   "outputs": [
    {
     "data": {
      "text/html": [
       "<div>\n",
       "<style scoped>\n",
       "    .dataframe tbody tr th:only-of-type {\n",
       "        vertical-align: middle;\n",
       "    }\n",
       "\n",
       "    .dataframe tbody tr th {\n",
       "        vertical-align: top;\n",
       "    }\n",
       "\n",
       "    .dataframe thead th {\n",
       "        text-align: right;\n",
       "    }\n",
       "</style>\n",
       "<table border=\"1\" class=\"dataframe\">\n",
       "  <thead>\n",
       "    <tr style=\"text-align: right;\">\n",
       "      <th></th>\n",
       "      <th>channelGrouping</th>\n",
       "      <th>customDimensions</th>\n",
       "      <th>date</th>\n",
       "      <th>fullVisitorId</th>\n",
       "      <th>hits</th>\n",
       "      <th>socialEngagementType</th>\n",
       "      <th>visitId</th>\n",
       "      <th>visitNumber</th>\n",
       "      <th>visitStartTime</th>\n",
       "      <th>device.browser</th>\n",
       "      <th>...</th>\n",
       "      <th>trafficSource.adwordsClickInfo.gclId</th>\n",
       "      <th>trafficSource.adwordsClickInfo.isVideoAd</th>\n",
       "      <th>trafficSource.adwordsClickInfo.page</th>\n",
       "      <th>trafficSource.adwordsClickInfo.slot</th>\n",
       "      <th>trafficSource.campaign</th>\n",
       "      <th>trafficSource.isTrueDirect</th>\n",
       "      <th>trafficSource.keyword</th>\n",
       "      <th>trafficSource.medium</th>\n",
       "      <th>trafficSource.referralPath</th>\n",
       "      <th>trafficSource.source</th>\n",
       "    </tr>\n",
       "  </thead>\n",
       "  <tbody>\n",
       "    <tr>\n",
       "      <th>0</th>\n",
       "      <td>Organic Search</td>\n",
       "      <td>[{'index': '4', 'value': 'Central America'}]</td>\n",
       "      <td>20171016</td>\n",
       "      <td>6960673291025684308</td>\n",
       "      <td>[{'hitNumber': '1', 'time': '0', 'hour': '14',...</td>\n",
       "      <td>Not Socially Engaged</td>\n",
       "      <td>1508190552</td>\n",
       "      <td>1</td>\n",
       "      <td>1508190552</td>\n",
       "      <td>Chrome</td>\n",
       "      <td>...</td>\n",
       "      <td>NaN</td>\n",
       "      <td>NaN</td>\n",
       "      <td>NaN</td>\n",
       "      <td>NaN</td>\n",
       "      <td>(not set)</td>\n",
       "      <td>NaN</td>\n",
       "      <td>(not provided)</td>\n",
       "      <td>organic</td>\n",
       "      <td>NaN</td>\n",
       "      <td>google</td>\n",
       "    </tr>\n",
       "    <tr>\n",
       "      <th>1</th>\n",
       "      <td>Referral</td>\n",
       "      <td>[{'index': '4', 'value': 'APAC'}]</td>\n",
       "      <td>20171016</td>\n",
       "      <td>8603113812592998660</td>\n",
       "      <td>[{'hitNumber': '1', 'time': '0', 'hour': '19',...</td>\n",
       "      <td>Not Socially Engaged</td>\n",
       "      <td>1508206196</td>\n",
       "      <td>1</td>\n",
       "      <td>1508206196</td>\n",
       "      <td>Chrome</td>\n",
       "      <td>...</td>\n",
       "      <td>NaN</td>\n",
       "      <td>NaN</td>\n",
       "      <td>NaN</td>\n",
       "      <td>NaN</td>\n",
       "      <td>(not set)</td>\n",
       "      <td>NaN</td>\n",
       "      <td>NaN</td>\n",
       "      <td>referral</td>\n",
       "      <td>/gopher</td>\n",
       "      <td>blog.golang.org</td>\n",
       "    </tr>\n",
       "    <tr>\n",
       "      <th>2</th>\n",
       "      <td>Organic Search</td>\n",
       "      <td>[]</td>\n",
       "      <td>20171016</td>\n",
       "      <td>6723102816157399269</td>\n",
       "      <td>[{'hitNumber': '1', 'time': '0', 'hour': '12',...</td>\n",
       "      <td>Not Socially Engaged</td>\n",
       "      <td>1508180825</td>\n",
       "      <td>1</td>\n",
       "      <td>1508180825</td>\n",
       "      <td>Chrome</td>\n",
       "      <td>...</td>\n",
       "      <td>NaN</td>\n",
       "      <td>NaN</td>\n",
       "      <td>NaN</td>\n",
       "      <td>NaN</td>\n",
       "      <td>(not set)</td>\n",
       "      <td>NaN</td>\n",
       "      <td>(not provided)</td>\n",
       "      <td>organic</td>\n",
       "      <td>NaN</td>\n",
       "      <td>google</td>\n",
       "    </tr>\n",
       "    <tr>\n",
       "      <th>3</th>\n",
       "      <td>Direct</td>\n",
       "      <td>[{'index': '4', 'value': 'North America'}]</td>\n",
       "      <td>20171016</td>\n",
       "      <td>1891933966803438461</td>\n",
       "      <td>[{'hitNumber': '2', 'time': '0', 'hour': '14',...</td>\n",
       "      <td>Not Socially Engaged</td>\n",
       "      <td>1508190356</td>\n",
       "      <td>1</td>\n",
       "      <td>1508190360</td>\n",
       "      <td>Safari</td>\n",
       "      <td>...</td>\n",
       "      <td>NaN</td>\n",
       "      <td>NaN</td>\n",
       "      <td>NaN</td>\n",
       "      <td>NaN</td>\n",
       "      <td>(not set)</td>\n",
       "      <td>True</td>\n",
       "      <td>NaN</td>\n",
       "      <td>(none)</td>\n",
       "      <td>NaN</td>\n",
       "      <td>(direct)</td>\n",
       "    </tr>\n",
       "    <tr>\n",
       "      <th>4</th>\n",
       "      <td>Referral</td>\n",
       "      <td>[{'index': '4', 'value': 'North America'}]</td>\n",
       "      <td>20171016</td>\n",
       "      <td>5446323589552618007</td>\n",
       "      <td>[{'hitNumber': '1', 'time': '0', 'hour': '12',...</td>\n",
       "      <td>Not Socially Engaged</td>\n",
       "      <td>1508181229</td>\n",
       "      <td>2</td>\n",
       "      <td>1508181229</td>\n",
       "      <td>Chrome</td>\n",
       "      <td>...</td>\n",
       "      <td>NaN</td>\n",
       "      <td>NaN</td>\n",
       "      <td>NaN</td>\n",
       "      <td>NaN</td>\n",
       "      <td>(not set)</td>\n",
       "      <td>True</td>\n",
       "      <td>NaN</td>\n",
       "      <td>referral</td>\n",
       "      <td>/gopher</td>\n",
       "      <td>blog.golang.org</td>\n",
       "    </tr>\n",
       "  </tbody>\n",
       "</table>\n",
       "<p>5 rows × 59 columns</p>\n",
       "</div>"
      ],
      "text/plain": [
       "  channelGrouping                              customDimensions      date  \\\n",
       "0  Organic Search  [{'index': '4', 'value': 'Central America'}]  20171016   \n",
       "1        Referral             [{'index': '4', 'value': 'APAC'}]  20171016   \n",
       "2  Organic Search                                            []  20171016   \n",
       "3          Direct    [{'index': '4', 'value': 'North America'}]  20171016   \n",
       "4        Referral    [{'index': '4', 'value': 'North America'}]  20171016   \n",
       "\n",
       "         fullVisitorId                                               hits  \\\n",
       "0  6960673291025684308  [{'hitNumber': '1', 'time': '0', 'hour': '14',...   \n",
       "1  8603113812592998660  [{'hitNumber': '1', 'time': '0', 'hour': '19',...   \n",
       "2  6723102816157399269  [{'hitNumber': '1', 'time': '0', 'hour': '12',...   \n",
       "3  1891933966803438461  [{'hitNumber': '2', 'time': '0', 'hour': '14',...   \n",
       "4  5446323589552618007  [{'hitNumber': '1', 'time': '0', 'hour': '12',...   \n",
       "\n",
       "   socialEngagementType     visitId  visitNumber  visitStartTime  \\\n",
       "0  Not Socially Engaged  1508190552            1      1508190552   \n",
       "1  Not Socially Engaged  1508206196            1      1508206196   \n",
       "2  Not Socially Engaged  1508180825            1      1508180825   \n",
       "3  Not Socially Engaged  1508190356            1      1508190360   \n",
       "4  Not Socially Engaged  1508181229            2      1508181229   \n",
       "\n",
       "  device.browser         ...          trafficSource.adwordsClickInfo.gclId  \\\n",
       "0         Chrome         ...                                           NaN   \n",
       "1         Chrome         ...                                           NaN   \n",
       "2         Chrome         ...                                           NaN   \n",
       "3         Safari         ...                                           NaN   \n",
       "4         Chrome         ...                                           NaN   \n",
       "\n",
       "  trafficSource.adwordsClickInfo.isVideoAd  \\\n",
       "0                                      NaN   \n",
       "1                                      NaN   \n",
       "2                                      NaN   \n",
       "3                                      NaN   \n",
       "4                                      NaN   \n",
       "\n",
       "  trafficSource.adwordsClickInfo.page trafficSource.adwordsClickInfo.slot  \\\n",
       "0                                 NaN                                 NaN   \n",
       "1                                 NaN                                 NaN   \n",
       "2                                 NaN                                 NaN   \n",
       "3                                 NaN                                 NaN   \n",
       "4                                 NaN                                 NaN   \n",
       "\n",
       "   trafficSource.campaign trafficSource.isTrueDirect trafficSource.keyword  \\\n",
       "0               (not set)                        NaN        (not provided)   \n",
       "1               (not set)                        NaN                   NaN   \n",
       "2               (not set)                        NaN        (not provided)   \n",
       "3               (not set)                       True                   NaN   \n",
       "4               (not set)                       True                   NaN   \n",
       "\n",
       "  trafficSource.medium trafficSource.referralPath trafficSource.source  \n",
       "0              organic                        NaN               google  \n",
       "1             referral                    /gopher      blog.golang.org  \n",
       "2              organic                        NaN               google  \n",
       "3               (none)                        NaN             (direct)  \n",
       "4             referral                    /gopher      blog.golang.org  \n",
       "\n",
       "[5 rows x 59 columns]"
      ]
     },
     "execution_count": 49,
     "metadata": {},
     "output_type": "execute_result"
    }
   ],
   "source": [
    "df_train.head()"
   ]
  },
  {
   "cell_type": "code",
   "execution_count": 51,
   "metadata": {},
   "outputs": [],
   "source": [
    "def missing_values(data):\n",
    "    total = data.isnull().sum().sort_values(ascending=False)\n",
    "    percent = (data.isnull().sum() / data.isnull().count()*100).sort_values(ascending=False)\n",
    "    df = pd.concat([total, percent], axis=1, keys=['Total', 'Percent']) # Concatenating the total and percent\n",
    "    print(\"Total columns at least one Values: \")\n",
    "    print (df[~(df['Total'] == 0)]) # Returning values of nulls different of 0\n",
    "    print(\"\\n Total of Sales % of Total: \", round((df_train[df_train['totals.transactionRevenue'] != np.nan]['totals.transactionRevenue'].count() / len(df_train['totals.transactionRevenue']) * 100),4))\n",
    "    return "
   ]
  },
  {
   "cell_type": "code",
   "execution_count": 52,
   "metadata": {},
   "outputs": [
    {
     "name": "stdout",
     "output_type": "stream",
     "text": [
      "Total columns at least one Values: \n",
      "                                               Total    Percent\n",
      "totals.totalTransactionRevenue                118279  98.921952\n",
      "totals.transactionRevenue                     118279  98.921952\n",
      "totals.transactions                           118274  98.917771\n",
      "trafficSource.adContent                       115116  96.276596\n",
      "trafficSource.adwordsClickInfo.slot           114357  95.641811\n",
      "trafficSource.adwordsClickInfo.page           114357  95.641811\n",
      "trafficSource.adwordsClickInfo.isVideoAd      114357  95.641811\n",
      "trafficSource.adwordsClickInfo.adNetworkType  114357  95.641811\n",
      "trafficSource.adwordsClickInfo.gclId          114348  95.634283\n",
      "trafficSource.isTrueDirect                     82190  68.739128\n",
      "trafficSource.referralPath                     79921  66.841463\n",
      "trafficSource.keyword                          73839  61.754817\n",
      "totals.timeOnSite                              61056  51.063830\n",
      "totals.sessionQualityDim                       58756  49.140238\n",
      "totals.bounces                                 58705  49.097585\n",
      "totals.newVisits                               27926  23.355747\n",
      "totals.pageviews                                  14   0.011709\n",
      "\n",
      " Total of Sales % of Total:  1.078\n"
     ]
    }
   ],
   "source": [
    "missing_values(df_train) "
   ]
  },
  {
   "cell_type": "markdown",
   "metadata": {},
   "source": [
    "### Function to handle datetime"
   ]
  },
  {
   "cell_type": "code",
   "execution_count": 55,
   "metadata": {},
   "outputs": [],
   "source": [
    "from datetime import datetime\n",
    "def date_process(df):\n",
    "    df[\"date\"] = pd.to_datetime(df[\"date\"],format=\"%Y%m%d\")\n",
    "    df[\"_weekday\"] = df['date'].dt.weekday #extracting week day\n",
    "    df[\"_day\"] = df['date'].dt.day # extracting day\n",
    "    df[\"_month\"] = df['date'].dt.month # extracting day\n",
    "    df[\"_year\"] = df['date'].dt.year # extracting day\n",
    "    df['_visitHour'] = (df['visitStartTime'].apply(lambda x: str(datetime.fromtimestamp(x).hour))).astype(int)\n",
    "    return df"
   ]
  },
  {
   "cell_type": "code",
   "execution_count": 56,
   "metadata": {},
   "outputs": [
    {
     "data": {
      "text/html": [
       "<div>\n",
       "<style scoped>\n",
       "    .dataframe tbody tr th:only-of-type {\n",
       "        vertical-align: middle;\n",
       "    }\n",
       "\n",
       "    .dataframe tbody tr th {\n",
       "        vertical-align: top;\n",
       "    }\n",
       "\n",
       "    .dataframe thead th {\n",
       "        text-align: right;\n",
       "    }\n",
       "</style>\n",
       "<table border=\"1\" class=\"dataframe\">\n",
       "  <thead>\n",
       "    <tr style=\"text-align: right;\">\n",
       "      <th></th>\n",
       "      <th>channelGrouping</th>\n",
       "      <th>customDimensions</th>\n",
       "      <th>date</th>\n",
       "      <th>fullVisitorId</th>\n",
       "      <th>hits</th>\n",
       "      <th>socialEngagementType</th>\n",
       "      <th>visitId</th>\n",
       "      <th>visitNumber</th>\n",
       "      <th>visitStartTime</th>\n",
       "      <th>device.browser</th>\n",
       "      <th>...</th>\n",
       "      <th>trafficSource.isTrueDirect</th>\n",
       "      <th>trafficSource.keyword</th>\n",
       "      <th>trafficSource.medium</th>\n",
       "      <th>trafficSource.referralPath</th>\n",
       "      <th>trafficSource.source</th>\n",
       "      <th>_weekday</th>\n",
       "      <th>_day</th>\n",
       "      <th>_month</th>\n",
       "      <th>_year</th>\n",
       "      <th>_visitHour</th>\n",
       "    </tr>\n",
       "  </thead>\n",
       "  <tbody>\n",
       "    <tr>\n",
       "      <th>0</th>\n",
       "      <td>Organic Search</td>\n",
       "      <td>[{'index': '4', 'value': 'Central America'}]</td>\n",
       "      <td>2017-10-16</td>\n",
       "      <td>6960673291025684308</td>\n",
       "      <td>[{'hitNumber': '1', 'time': '0', 'hour': '14',...</td>\n",
       "      <td>Not Socially Engaged</td>\n",
       "      <td>1508190552</td>\n",
       "      <td>1</td>\n",
       "      <td>1508190552</td>\n",
       "      <td>Chrome</td>\n",
       "      <td>...</td>\n",
       "      <td>NaN</td>\n",
       "      <td>(not provided)</td>\n",
       "      <td>organic</td>\n",
       "      <td>NaN</td>\n",
       "      <td>google</td>\n",
       "      <td>0</td>\n",
       "      <td>16</td>\n",
       "      <td>10</td>\n",
       "      <td>2017</td>\n",
       "      <td>17</td>\n",
       "    </tr>\n",
       "    <tr>\n",
       "      <th>1</th>\n",
       "      <td>Referral</td>\n",
       "      <td>[{'index': '4', 'value': 'APAC'}]</td>\n",
       "      <td>2017-10-16</td>\n",
       "      <td>8603113812592998660</td>\n",
       "      <td>[{'hitNumber': '1', 'time': '0', 'hour': '19',...</td>\n",
       "      <td>Not Socially Engaged</td>\n",
       "      <td>1508206196</td>\n",
       "      <td>1</td>\n",
       "      <td>1508206196</td>\n",
       "      <td>Chrome</td>\n",
       "      <td>...</td>\n",
       "      <td>NaN</td>\n",
       "      <td>NaN</td>\n",
       "      <td>referral</td>\n",
       "      <td>/gopher</td>\n",
       "      <td>blog.golang.org</td>\n",
       "      <td>0</td>\n",
       "      <td>16</td>\n",
       "      <td>10</td>\n",
       "      <td>2017</td>\n",
       "      <td>22</td>\n",
       "    </tr>\n",
       "    <tr>\n",
       "      <th>2</th>\n",
       "      <td>Organic Search</td>\n",
       "      <td>[]</td>\n",
       "      <td>2017-10-16</td>\n",
       "      <td>6723102816157399269</td>\n",
       "      <td>[{'hitNumber': '1', 'time': '0', 'hour': '12',...</td>\n",
       "      <td>Not Socially Engaged</td>\n",
       "      <td>1508180825</td>\n",
       "      <td>1</td>\n",
       "      <td>1508180825</td>\n",
       "      <td>Chrome</td>\n",
       "      <td>...</td>\n",
       "      <td>NaN</td>\n",
       "      <td>(not provided)</td>\n",
       "      <td>organic</td>\n",
       "      <td>NaN</td>\n",
       "      <td>google</td>\n",
       "      <td>0</td>\n",
       "      <td>16</td>\n",
       "      <td>10</td>\n",
       "      <td>2017</td>\n",
       "      <td>15</td>\n",
       "    </tr>\n",
       "    <tr>\n",
       "      <th>3</th>\n",
       "      <td>Direct</td>\n",
       "      <td>[{'index': '4', 'value': 'North America'}]</td>\n",
       "      <td>2017-10-16</td>\n",
       "      <td>1891933966803438461</td>\n",
       "      <td>[{'hitNumber': '2', 'time': '0', 'hour': '14',...</td>\n",
       "      <td>Not Socially Engaged</td>\n",
       "      <td>1508190356</td>\n",
       "      <td>1</td>\n",
       "      <td>1508190360</td>\n",
       "      <td>Safari</td>\n",
       "      <td>...</td>\n",
       "      <td>True</td>\n",
       "      <td>NaN</td>\n",
       "      <td>(none)</td>\n",
       "      <td>NaN</td>\n",
       "      <td>(direct)</td>\n",
       "      <td>0</td>\n",
       "      <td>16</td>\n",
       "      <td>10</td>\n",
       "      <td>2017</td>\n",
       "      <td>17</td>\n",
       "    </tr>\n",
       "    <tr>\n",
       "      <th>4</th>\n",
       "      <td>Referral</td>\n",
       "      <td>[{'index': '4', 'value': 'North America'}]</td>\n",
       "      <td>2017-10-16</td>\n",
       "      <td>5446323589552618007</td>\n",
       "      <td>[{'hitNumber': '1', 'time': '0', 'hour': '12',...</td>\n",
       "      <td>Not Socially Engaged</td>\n",
       "      <td>1508181229</td>\n",
       "      <td>2</td>\n",
       "      <td>1508181229</td>\n",
       "      <td>Chrome</td>\n",
       "      <td>...</td>\n",
       "      <td>True</td>\n",
       "      <td>NaN</td>\n",
       "      <td>referral</td>\n",
       "      <td>/gopher</td>\n",
       "      <td>blog.golang.org</td>\n",
       "      <td>0</td>\n",
       "      <td>16</td>\n",
       "      <td>10</td>\n",
       "      <td>2017</td>\n",
       "      <td>15</td>\n",
       "    </tr>\n",
       "  </tbody>\n",
       "</table>\n",
       "<p>5 rows × 64 columns</p>\n",
       "</div>"
      ],
      "text/plain": [
       "  channelGrouping                              customDimensions       date  \\\n",
       "0  Organic Search  [{'index': '4', 'value': 'Central America'}] 2017-10-16   \n",
       "1        Referral             [{'index': '4', 'value': 'APAC'}] 2017-10-16   \n",
       "2  Organic Search                                            [] 2017-10-16   \n",
       "3          Direct    [{'index': '4', 'value': 'North America'}] 2017-10-16   \n",
       "4        Referral    [{'index': '4', 'value': 'North America'}] 2017-10-16   \n",
       "\n",
       "         fullVisitorId                                               hits  \\\n",
       "0  6960673291025684308  [{'hitNumber': '1', 'time': '0', 'hour': '14',...   \n",
       "1  8603113812592998660  [{'hitNumber': '1', 'time': '0', 'hour': '19',...   \n",
       "2  6723102816157399269  [{'hitNumber': '1', 'time': '0', 'hour': '12',...   \n",
       "3  1891933966803438461  [{'hitNumber': '2', 'time': '0', 'hour': '14',...   \n",
       "4  5446323589552618007  [{'hitNumber': '1', 'time': '0', 'hour': '12',...   \n",
       "\n",
       "   socialEngagementType     visitId  visitNumber  visitStartTime  \\\n",
       "0  Not Socially Engaged  1508190552            1      1508190552   \n",
       "1  Not Socially Engaged  1508206196            1      1508206196   \n",
       "2  Not Socially Engaged  1508180825            1      1508180825   \n",
       "3  Not Socially Engaged  1508190356            1      1508190360   \n",
       "4  Not Socially Engaged  1508181229            2      1508181229   \n",
       "\n",
       "  device.browser    ...     trafficSource.isTrueDirect trafficSource.keyword  \\\n",
       "0         Chrome    ...                            NaN        (not provided)   \n",
       "1         Chrome    ...                            NaN                   NaN   \n",
       "2         Chrome    ...                            NaN        (not provided)   \n",
       "3         Safari    ...                           True                   NaN   \n",
       "4         Chrome    ...                           True                   NaN   \n",
       "\n",
       "  trafficSource.medium trafficSource.referralPath  trafficSource.source  \\\n",
       "0              organic                        NaN                google   \n",
       "1             referral                    /gopher       blog.golang.org   \n",
       "2              organic                        NaN                google   \n",
       "3               (none)                        NaN              (direct)   \n",
       "4             referral                    /gopher       blog.golang.org   \n",
       "\n",
       "  _weekday _day _month _year _visitHour  \n",
       "0        0   16     10  2017         17  \n",
       "1        0   16     10  2017         22  \n",
       "2        0   16     10  2017         15  \n",
       "3        0   16     10  2017         17  \n",
       "4        0   16     10  2017         15  \n",
       "\n",
       "[5 rows x 64 columns]"
      ]
     },
     "execution_count": 56,
     "metadata": {},
     "output_type": "execute_result"
    }
   ],
   "source": [
    "df_train = date_process(df_train)\n",
    "df_train.head()"
   ]
  },
  {
   "cell_type": "code",
   "execution_count": 58,
   "metadata": {},
   "outputs": [],
   "source": [
    "def NumericalColumns(df):    # fillna numeric feature\n",
    "    df['totals.pageviews'].fillna(1, inplace=True) #filling NA's with 1\n",
    "    df['totals.newVisits'].fillna(0, inplace=True) #filling NA's with 0\n",
    "    df['totals.bounces'].fillna(0, inplace=True)   #filling NA's with 0\n",
    "    df['trafficSource.isTrueDirect'].fillna(False, inplace=True) # filling boolean with False\n",
    "    df['trafficSource.adwordsClickInfo.isVideoAd'].fillna(True, inplace=True) # filling boolean with True\n",
    "    df[\"totals.transactionRevenue\"] = df[\"totals.transactionRevenue\"].fillna(0.0).astype(float) #filling NA with zero\n",
    "    df['totals.pageviews'] = df['totals.pageviews'].astype(int) # setting numerical column as integer\n",
    "    df['totals.newVisits'] = df['totals.newVisits'].astype(int) # setting numerical column as integer\n",
    "    df['totals.bounces'] = df['totals.bounces'].astype(int)  # setting numerical column as integer\n",
    "    df[\"totals.hits\"] = df[\"totals.hits\"].astype(float) # setting numerical to float\n",
    "    df['totals.visits'] = df['totals.visits'].astype(int) # seting as int\n",
    "\n",
    "    return df #return the transformed dataframe"
   ]
  },
  {
   "cell_type": "code",
   "execution_count": 64,
   "metadata": {},
   "outputs": [],
   "source": [
    "def FillingNaValues(df):\n",
    "#     df['totals.pageviews'].fillna(1,inplace=True).astype(int)\n",
    "#     df['totals.newVisits'].fillna(0, inplace=True).astype(int) #filling NA's with 0\n",
    "#     df['totals.bounces'].fillna(0, inplace=True).astype(int)   #filling NA's with 0\n",
    "#     df[\"totals.transactionRevenue\"] = df[\"totals.transactionRevenue\"].fillna(0.0).astype(float) #filling NA with zero\n",
    "#     df['trafficSource.isTrueDirect'].fillna(False, inplace=True) # filling boolean with False\n",
    "#     df['trafficSource.adwordsClickInfo.isVideoAd'].fillna(True, inplace=True) # filling boolean with True\n",
    "    df_train.loc[df_train['geoNetwork.city'] == \"(not set)\", 'geoNetwork.city'] = np.nan\n",
    "    df_train['geoNetwork.city'].fillna(\"NaN\", inplace=True)\n",
    "\n",
    "    return df #return the transformed dataframe"
   ]
  },
  {
   "cell_type": "code",
   "execution_count": 60,
   "metadata": {},
   "outputs": [],
   "source": [
    "df_train = NumericalColumns(df_train)"
   ]
  },
  {
   "cell_type": "code",
   "execution_count": 65,
   "metadata": {},
   "outputs": [],
   "source": [
    "df_train = FillingNaValues(df_train)"
   ]
  },
  {
   "cell_type": "code",
   "execution_count": 66,
   "metadata": {},
   "outputs": [],
   "source": [
    "from sklearn import preprocessing\n",
    "def Normalizing(df):\n",
    "    df[\"totals.hits\"] =  (df['totals.hits'] - min(df['totals.hits'])) / (max(df['totals.hits'])  - min(df['totals.hits']))\n",
    "    # normalizing the transaction Revenue\n",
    "    df['totals.transactionRevenue'] = df_train['totals.transactionRevenue'].apply(lambda x: np.log1p(x))\n",
    "    # return the modified df\n",
    "    return df "
   ]
  },
  {
   "cell_type": "code",
   "execution_count": 68,
   "metadata": {},
   "outputs": [],
   "source": [
    "df_train = Normalizing(df_train)"
   ]
  },
  {
   "cell_type": "markdown",
   "metadata": {},
   "source": [
    "### Constant columns"
   ]
  },
  {
   "cell_type": "code",
   "execution_count": 70,
   "metadata": {},
   "outputs": [
    {
     "name": "stdout",
     "output_type": "stream",
     "text": [
      "Columns with just one value:  19 columns\n",
      "Name of constant columns: \n",
      " ['socialEngagementType', 'device.browserSize', 'device.browserVersion', 'device.flashVersion', 'device.language', 'device.mobileDeviceBranding', 'device.mobileDeviceInfo', 'device.mobileDeviceMarketingName', 'device.mobileDeviceModel', 'device.mobileInputSelector', 'device.operatingSystemVersion', 'device.screenColors', 'device.screenResolution', 'geoNetwork.cityId', 'geoNetwork.latitude', 'geoNetwork.longitude', 'geoNetwork.networkLocation', 'totals.visits', 'trafficSource.adwordsClickInfo.criteriaParameters']\n"
     ]
    }
   ],
   "source": [
    "discovering_consts = [col for col in df_train.columns if df_train[col].nunique() ==1]\n",
    "print(\"Columns with just one value: \", len(discovering_consts), \"columns\")\n",
    "print(\"Name of constant columns: \\n\", discovering_consts)"
   ]
  },
  {
   "cell_type": "code",
   "execution_count": 71,
   "metadata": {},
   "outputs": [],
   "source": [
    "not_aval_cols = ['socialEngagementType','device.browserSize','device.browserVersion', 'device.flashVersion', \n",
    "                 'device.language' ,'device.mobileDeviceBranding', 'device.mobileDeviceInfo','device.mobileDeviceMarketingName',\n",
    "                 'device.mobileDeviceModel', 'device.mobileInputSelector' , 'device.operatingSystemVersion','device.screenColors',\n",
    "                 'device.screenResolution', 'geoNetwork.cityId', 'geoNetwork.latitude' ,'geoNetwork.longitude',\n",
    "                 'geoNetwork.networkLocation','trafficSource.adwordsClickInfo.criteriaParameters']"
   ]
  },
  {
   "cell_type": "code",
   "execution_count": 72,
   "metadata": {},
   "outputs": [],
   "source": [
    "def knowningData(df, data_type=object, limit=3): #seting the function with df, \n",
    "    n = df.select_dtypes(include=data_type) #selecting the desired data type\n",
    "    for column in n.columns: #initializing the loop\n",
    "        print(\"##############################################\")\n",
    "        print(\"Name of column \", column, ': \\n', \"Uniques: \", df[column].unique()[:limit], \"\\n\",\n",
    "              \" | ## Total nulls: \", (round(df[column].isnull().sum() / len(df[column]) * 100,2)),\n",
    "              \" | ## Total unique values: \", df_train.nunique()[column]) #print the data and % of nulls)\n",
    "        # print(\"Percentual of top 3 of: \", column)\n",
    "        # print(round(df[column].value_counts()[:3] / df[column].value_counts().sum() * 100,2))\n",
    "        print(\"#############################################\")"
   ]
  },
  {
   "cell_type": "code",
   "execution_count": 73,
   "metadata": {},
   "outputs": [],
   "source": [
    "to_drop = [\"socialEngagementType\",'device.browserVersion', 'device.browserSize', 'device.flashVersion', 'device.language', \n",
    "           'device.mobileDeviceBranding', 'device.mobileDeviceInfo', 'device.mobileDeviceMarketingName', 'device.mobileDeviceModel',\n",
    "           'device.mobileInputSelector', 'device.operatingSystemVersion', 'device.screenColors', 'device.screenResolution', \n",
    "           'geoNetwork.cityId', 'geoNetwork.latitude', 'geoNetwork.longitude','geoNetwork.networkLocation', \n",
    "           'trafficSource.adwordsClickInfo.criteriaParameters', 'trafficSource.adwordsClickInfo.gclId', 'trafficSource.campaign',\n",
    "           'trafficSource.adwordsClickInfo.page', 'trafficSource.referralPath', 'trafficSource.adwordsClickInfo.slot',\n",
    "           'trafficSource.adContent', 'trafficSource.keyword']"
   ]
  },
  {
   "cell_type": "code",
   "execution_count": 74,
   "metadata": {},
   "outputs": [],
   "source": [
    "df_train.drop(to_drop, axis=1, inplace=True)"
   ]
  },
  {
   "cell_type": "code",
   "execution_count": 75,
   "metadata": {},
   "outputs": [
    {
     "name": "stdout",
     "output_type": "stream",
     "text": [
      "Total features dropped:  25\n",
      "Shape after dropping:  (119568, 39)\n"
     ]
    }
   ],
   "source": [
    "print(\"Total features dropped: \", len(to_drop))\n",
    "print(\"Shape after dropping: \", df_train.shape)"
   ]
  },
  {
   "cell_type": "code",
   "execution_count": 76,
   "metadata": {},
   "outputs": [],
   "source": [
    "df_train = NumericalColumns(df_train)\n",
    "\n",
    "# Call the function that will normalize some features\n",
    "df_train = Normalizing(df_train)"
   ]
  },
  {
   "cell_type": "code",
   "execution_count": 77,
   "metadata": {},
   "outputs": [
    {
     "name": "stdout",
     "output_type": "stream",
     "text": [
      "This useful action will drop:  1 columns\n",
      "All dropped columns: \n",
      " ['totals.visits']\n"
     ]
    }
   ],
   "source": [
    "# We will takeoff all columns where we have a unique value\n",
    "# It is useful because this columns don't give us none information\n",
    "clean_consts = [col for col in df_train.columns if df_train[col].nunique() == 1]\n",
    "\n",
    "\n",
    "# this function drop all constant columns, inplacing the data \n",
    "df_train.drop('trafficSource.adwordsClickInfo.adNetworkType', axis=1, inplace=True) \n",
    "\n",
    "# printing the total of columns dropped and the name of columns \n",
    "print(\"This useful action will drop: \", len(clean_consts), \"columns\")\n",
    "print(\"All dropped columns: \\n\", clean_consts)"
   ]
  },
  {
   "cell_type": "code",
   "execution_count": 78,
   "metadata": {},
   "outputs": [],
   "source": [
    "dummy_feaures =['channelGrouping', 'device.browser', 'device.deviceCategory', 'geoNetwork.city', 'device.operatingSystem', \n",
    "                'trafficSource.medium', 'trafficSource.source',\n",
    "                'geoNetwork.continent', 'geoNetwork.country', 'geoNetwork.metro', 'geoNetwork.networkDomain', 'geoNetwork.region', \n",
    "                'geoNetwork.subContinent']\n",
    "\n",
    "\n",
    "numericals = ['totals.visits', '_visitHour', '_day', '_month', '_weekday']"
   ]
  },
  {
   "cell_type": "code",
   "execution_count": 79,
   "metadata": {},
   "outputs": [
    {
     "name": "stdout",
     "output_type": "stream",
     "text": [
      "Transaction Revenue Min Value:  2.5806771513187536\n",
      "Transaction Revenue Mean Value:  2.9325067411497363\n",
      "Transaction Revenue Median Value:  2.927801511115487\n",
      "Transaction Revenue Max Value:  3.140322914356413\n"
     ]
    },
    {
     "name": "stderr",
     "output_type": "stream",
     "text": [
      "C:\\ProgramData\\Anaconda3\\envs\\fastai-cpu\\lib\\site-packages\\matplotlib\\axes\\_axes.py:6462: UserWarning:\n",
      "\n",
      "The 'normed' kwarg is deprecated, and has been replaced by the 'density' kwarg.\n",
      "\n"
     ]
    },
    {
     "data": {
      "image/png": "[encoded data removed]",
      "text/plain": [
       "<Figure size 1008x360 with 2 Axes>"
      ]
     },
     "metadata": {},
     "output_type": "display_data"
    }
   ],
   "source": [
    "# Printing some statistics of our data\n",
    "print(\"Transaction Revenue Min Value: \", \n",
    "      df_train[df_train['totals.transactionRevenue'] > 0][\"totals.transactionRevenue\"].min()) # printing the min value\n",
    "print(\"Transaction Revenue Mean Value: \", \n",
    "      df_train[df_train['totals.transactionRevenue'] > 0][\"totals.transactionRevenue\"].mean()) # mean value\n",
    "print(\"Transaction Revenue Median Value: \", \n",
    "      df_train[df_train['totals.transactionRevenue'] > 0][\"totals.transactionRevenue\"].median()) # median value\n",
    "print(\"Transaction Revenue Max Value: \", \n",
    "      df_train[df_train['totals.transactionRevenue'] > 0][\"totals.transactionRevenue\"].max()) # the max value\n",
    "\n",
    "# It I did to plot the quantiles but are not working\n",
    "#print(round(df_train['totals.transactionRevenue'].quantile([.025,.25,.5,.75,.975]),2))\n",
    "\n",
    "# seting the figure size of our plots\n",
    "plt.figure(figsize=(14,5))\n",
    "\n",
    "# Subplot allow us to plot more than one \n",
    "# in this case, will be create a subplot grid of 2 x 1\n",
    "plt.subplot(1,2,1)\n",
    "# seting the distribuition of our data and normalizing using np.log on values highest than 0 and + \n",
    "# also, we will set the number of bins and if we want or not kde on our histogram\n",
    "ax = sns.distplot(np.log(df_train[df_train['totals.transactionRevenue'] > 0][\"totals.transactionRevenue\"] + 0.01), bins=40, kde=True)\n",
    "ax.set_xlabel('Transaction RevenueLog', fontsize=15) #seting the xlabel and size of font\n",
    "ax.set_ylabel('Distribuition', fontsize=15) #seting the ylabel and size of font\n",
    "ax.set_title(\"Distribuition of Revenue Log\", fontsize=20) #seting the title and size of font\n",
    "\n",
    "# setting the second plot of our grid of graphs\n",
    "plt.subplot(1,2,2)\n",
    "# ordering the total of users and seting the values of transactions to understanding \n",
    "plt.scatter(range(df_train.shape[0]), np.sort(df_train['totals.transactionRevenue'].values))\n",
    "plt.xlabel('Index', fontsize=15) # xlabel and size of words\n",
    "plt.ylabel('Revenue value', fontsize=15) # ylabel and size of words\n",
    "plt.title(\"Revenue Value Distribution\", fontsize=20) # Setting Title and fontsize\n",
    "\n",
    "plt.show()"
   ]
  },
  {
   "cell_type": "code",
   "execution_count": null,
   "metadata": {},
   "outputs": [],
   "source": []
  }
 ],
 "metadata": {
  "kernelspec": {
   "display_name": "Python 3",
   "language": "python",
   "name": "python3"
  },
  "language_info": {
   "codemirror_mode": {
    "name": "ipython",
    "version": 3
   },
   "file_extension": ".py",
   "mimetype": "text/x-python",
   "name": "python",
   "nbconvert_exporter": "python",
   "pygments_lexer": "ipython3",
   "version": "3.6.6"
  }
 },
 "nbformat": 4,
 "nbformat_minor": 2
}
