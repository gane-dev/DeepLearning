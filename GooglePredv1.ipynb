{
 "cells": [
  {
   "cell_type": "code",
   "execution_count": 156,
   "metadata": {},
   "outputs": [],
   "source": [
    "from os import path\n",
    "from fastai.structured import *\n",
    "from fastai.column_data import *\n",
    "import pandas as pd # to manipulate data frames \n",
    "import numpy as np # to work with matrix"
   ]
  },
  {
   "cell_type": "code",
   "execution_count": 157,
   "metadata": {},
   "outputs": [],
   "source": [
    "PATH=Path('data/kg-google/')"
   ]
  },
  {
   "cell_type": "code",
   "execution_count": 158,
   "metadata": {},
   "outputs": [],
   "source": [
    "train_file_name = f'{PATH}\\extracted_fields_train.csv'\n",
    "test_file_name= f'{PATH}\\extracted_fields_test.csv'"
   ]
  },
  {
   "cell_type": "code",
   "execution_count": 159,
   "metadata": {},
   "outputs": [],
   "source": [
    "chunksize=24000"
   ]
  },
  {
   "cell_type": "code",
   "execution_count": 160,
   "metadata": {},
   "outputs": [
    {
     "name": "stderr",
     "output_type": "stream",
     "text": [
      "D:\\python\\envs\\fastai\\lib\\site-packages\\IPython\\core\\interactiveshell.py:2785: DtypeWarning: Columns (24,25) have mixed types. Specify dtype option on import or set low_memory=False.\n",
      "  interactivity=interactivity, compiler=compiler, result=result)\n"
     ]
    }
   ],
   "source": [
    "df_train = pd.read_csv(train_file_name, dtype={'fullVisitorId': 'str'},\n",
    "                      usecols=['channelGrouping', 'date', 'fullVisitorId', 'visitId', 'visitNumber','totals.transactions',\n",
    "                               'totals.timeOnSite','totals.visits',\n",
    "       'visitStartTime', 'device.browser', 'device.deviceCategory',\n",
    "       'device.isMobile', 'device.operatingSystem', 'geoNetwork.city',\n",
    "       'geoNetwork.continent', 'geoNetwork.country', 'geoNetwork.metro',\n",
    "       'geoNetwork.networkDomain', 'geoNetwork.region',\n",
    "       'geoNetwork.subContinent', 'totals.bounces', 'totals.hits',\n",
    "       'totals.newVisits', 'totals.pageviews', 'totals.transactionRevenue',\n",
    "       'trafficSource.adContent', 'trafficSource.campaign',\n",
    "       'trafficSource.isTrueDirect', 'trafficSource.keyword',\n",
    "       'trafficSource.medium', 'trafficSource.referralPath',\n",
    "       'trafficSource.source'])"
   ]
  },
  {
   "cell_type": "code",
   "execution_count": 161,
   "metadata": {},
   "outputs": [
    {
     "data": {
      "text/html": [
       "<div>\n",
       "<style scoped>\n",
       "    .dataframe tbody tr th:only-of-type {\n",
       "        vertical-align: middle;\n",
       "    }\n",
       "\n",
       "    .dataframe tbody tr th {\n",
       "        vertical-align: top;\n",
       "    }\n",
       "\n",
       "    .dataframe thead th {\n",
       "        text-align: right;\n",
       "    }\n",
       "</style>\n",
       "<table border=\"1\" class=\"dataframe\">\n",
       "  <thead>\n",
       "    <tr style=\"text-align: right;\">\n",
       "      <th></th>\n",
       "      <th>channelGrouping</th>\n",
       "      <th>date</th>\n",
       "      <th>fullVisitorId</th>\n",
       "      <th>visitId</th>\n",
       "      <th>visitNumber</th>\n",
       "      <th>visitStartTime</th>\n",
       "      <th>device.browser</th>\n",
       "      <th>device.deviceCategory</th>\n",
       "      <th>device.isMobile</th>\n",
       "      <th>device.operatingSystem</th>\n",
       "      <th>...</th>\n",
       "      <th>totals.newVisits</th>\n",
       "      <th>totals.pageviews</th>\n",
       "      <th>totals.transactionRevenue</th>\n",
       "      <th>trafficSource.adContent</th>\n",
       "      <th>trafficSource.campaign</th>\n",
       "      <th>trafficSource.isTrueDirect</th>\n",
       "      <th>trafficSource.keyword</th>\n",
       "      <th>trafficSource.medium</th>\n",
       "      <th>trafficSource.referralPath</th>\n",
       "      <th>trafficSource.source</th>\n",
       "    </tr>\n",
       "  </thead>\n",
       "  <tbody>\n",
       "    <tr>\n",
       "      <th>0</th>\n",
       "      <td>Organic Search</td>\n",
       "      <td>20171016</td>\n",
       "      <td>3162355547410993243</td>\n",
       "      <td>1.508198e+09</td>\n",
       "      <td>1.0</td>\n",
       "      <td>1.508198e+09</td>\n",
       "      <td>Firefox</td>\n",
       "      <td>desktop</td>\n",
       "      <td>0.0</td>\n",
       "      <td>Windows</td>\n",
       "      <td>...</td>\n",
       "      <td>1.0</td>\n",
       "      <td>1.0</td>\n",
       "      <td>NaN</td>\n",
       "      <td>NaN</td>\n",
       "      <td>(not set)</td>\n",
       "      <td>NaN</td>\n",
       "      <td>water bottle</td>\n",
       "      <td>organic</td>\n",
       "      <td>NaN</td>\n",
       "      <td>google</td>\n",
       "    </tr>\n",
       "    <tr>\n",
       "      <th>1</th>\n",
       "      <td>Referral</td>\n",
       "      <td>20171016</td>\n",
       "      <td>8934116514970143966</td>\n",
       "      <td>1.508176e+09</td>\n",
       "      <td>6.0</td>\n",
       "      <td>1.508176e+09</td>\n",
       "      <td>Chrome</td>\n",
       "      <td>desktop</td>\n",
       "      <td>0.0</td>\n",
       "      <td>Chrome OS</td>\n",
       "      <td>...</td>\n",
       "      <td>NaN</td>\n",
       "      <td>2.0</td>\n",
       "      <td>NaN</td>\n",
       "      <td>NaN</td>\n",
       "      <td>(not set)</td>\n",
       "      <td>NaN</td>\n",
       "      <td>NaN</td>\n",
       "      <td>referral</td>\n",
       "      <td>/a/google.com/transportation/mtv-services/bike...</td>\n",
       "      <td>sites.google.com</td>\n",
       "    </tr>\n",
       "    <tr>\n",
       "      <th>2</th>\n",
       "      <td>Direct</td>\n",
       "      <td>20171016</td>\n",
       "      <td>7992466427990357681</td>\n",
       "      <td>1.508202e+09</td>\n",
       "      <td>1.0</td>\n",
       "      <td>1.508202e+09</td>\n",
       "      <td>Chrome</td>\n",
       "      <td>mobile</td>\n",
       "      <td>1.0</td>\n",
       "      <td>Android</td>\n",
       "      <td>...</td>\n",
       "      <td>1.0</td>\n",
       "      <td>2.0</td>\n",
       "      <td>NaN</td>\n",
       "      <td>NaN</td>\n",
       "      <td>(not set)</td>\n",
       "      <td>1</td>\n",
       "      <td>NaN</td>\n",
       "      <td>(none)</td>\n",
       "      <td>NaN</td>\n",
       "      <td>(direct)</td>\n",
       "    </tr>\n",
       "    <tr>\n",
       "      <th>3</th>\n",
       "      <td>Organic Search</td>\n",
       "      <td>20171016</td>\n",
       "      <td>9075655783635761930</td>\n",
       "      <td>1.508170e+09</td>\n",
       "      <td>1.0</td>\n",
       "      <td>1.508170e+09</td>\n",
       "      <td>Chrome</td>\n",
       "      <td>desktop</td>\n",
       "      <td>0.0</td>\n",
       "      <td>Windows</td>\n",
       "      <td>...</td>\n",
       "      <td>1.0</td>\n",
       "      <td>2.0</td>\n",
       "      <td>NaN</td>\n",
       "      <td>NaN</td>\n",
       "      <td>(not set)</td>\n",
       "      <td>NaN</td>\n",
       "      <td>(not provided)</td>\n",
       "      <td>organic</td>\n",
       "      <td>NaN</td>\n",
       "      <td>google</td>\n",
       "    </tr>\n",
       "    <tr>\n",
       "      <th>4</th>\n",
       "      <td>Organic Search</td>\n",
       "      <td>20171016</td>\n",
       "      <td>6960673291025684308</td>\n",
       "      <td>1.508191e+09</td>\n",
       "      <td>1.0</td>\n",
       "      <td>1.508191e+09</td>\n",
       "      <td>Chrome</td>\n",
       "      <td>desktop</td>\n",
       "      <td>0.0</td>\n",
       "      <td>Windows</td>\n",
       "      <td>...</td>\n",
       "      <td>1.0</td>\n",
       "      <td>2.0</td>\n",
       "      <td>NaN</td>\n",
       "      <td>NaN</td>\n",
       "      <td>(not set)</td>\n",
       "      <td>NaN</td>\n",
       "      <td>(not provided)</td>\n",
       "      <td>organic</td>\n",
       "      <td>NaN</td>\n",
       "      <td>google</td>\n",
       "    </tr>\n",
       "  </tbody>\n",
       "</table>\n",
       "<p>5 rows × 29 columns</p>\n",
       "</div>"
      ],
      "text/plain": [
       "  channelGrouping      date        fullVisitorId       visitId  visitNumber  \\\n",
       "0  Organic Search  20171016  3162355547410993243  1.508198e+09          1.0   \n",
       "1        Referral  20171016  8934116514970143966  1.508176e+09          6.0   \n",
       "2          Direct  20171016  7992466427990357681  1.508202e+09          1.0   \n",
       "3  Organic Search  20171016  9075655783635761930  1.508170e+09          1.0   \n",
       "4  Organic Search  20171016  6960673291025684308  1.508191e+09          1.0   \n",
       "\n",
       "   visitStartTime device.browser device.deviceCategory  device.isMobile  \\\n",
       "0    1.508198e+09        Firefox               desktop              0.0   \n",
       "1    1.508176e+09         Chrome               desktop              0.0   \n",
       "2    1.508202e+09         Chrome                mobile              1.0   \n",
       "3    1.508170e+09         Chrome               desktop              0.0   \n",
       "4    1.508191e+09         Chrome               desktop              0.0   \n",
       "\n",
       "  device.operatingSystem          ...          totals.newVisits  \\\n",
       "0                Windows          ...                       1.0   \n",
       "1              Chrome OS          ...                       NaN   \n",
       "2                Android          ...                       1.0   \n",
       "3                Windows          ...                       1.0   \n",
       "4                Windows          ...                       1.0   \n",
       "\n",
       "  totals.pageviews totals.transactionRevenue trafficSource.adContent  \\\n",
       "0              1.0                       NaN                     NaN   \n",
       "1              2.0                       NaN                     NaN   \n",
       "2              2.0                       NaN                     NaN   \n",
       "3              2.0                       NaN                     NaN   \n",
       "4              2.0                       NaN                     NaN   \n",
       "\n",
       "  trafficSource.campaign trafficSource.isTrueDirect trafficSource.keyword  \\\n",
       "0              (not set)                        NaN          water bottle   \n",
       "1              (not set)                        NaN                   NaN   \n",
       "2              (not set)                          1                   NaN   \n",
       "3              (not set)                        NaN        (not provided)   \n",
       "4              (not set)                        NaN        (not provided)   \n",
       "\n",
       "   trafficSource.medium                         trafficSource.referralPath  \\\n",
       "0               organic                                                NaN   \n",
       "1              referral  /a/google.com/transportation/mtv-services/bike...   \n",
       "2                (none)                                                NaN   \n",
       "3               organic                                                NaN   \n",
       "4               organic                                                NaN   \n",
       "\n",
       "   trafficSource.source  \n",
       "0                google  \n",
       "1      sites.google.com  \n",
       "2              (direct)  \n",
       "3                google  \n",
       "4                google  \n",
       "\n",
       "[5 rows x 29 columns]"
      ]
     },
     "execution_count": 161,
     "metadata": {},
     "output_type": "execute_result"
    }
   ],
   "source": [
    "df_train.head()"
   ]
  },
  {
   "cell_type": "code",
   "execution_count": 162,
   "metadata": {},
   "outputs": [],
   "source": [
    "# df_train = pd.read_csv(train_file_name)\n",
    "df_test = pd.read_csv(test_file_name, dtype={'fullVisitorId': 'str'})"
   ]
  },
  {
   "cell_type": "code",
   "execution_count": 163,
   "metadata": {},
   "outputs": [],
   "source": [
    "# df_test.head()\n"
   ]
  },
  {
   "cell_type": "code",
   "execution_count": 164,
   "metadata": {},
   "outputs": [],
   "source": [
    "# df_test.size"
   ]
  },
  {
   "cell_type": "code",
   "execution_count": 165,
   "metadata": {},
   "outputs": [],
   "source": [
    "# df_test.columns"
   ]
  },
  {
   "cell_type": "code",
   "execution_count": 166,
   "metadata": {},
   "outputs": [],
   "source": [
    "#columns to drop\n",
    "to_drop = [ 'visitId', 'visitNumber', \n",
    "             'geoNetwork.metro',\n",
    "       'geoNetwork.networkDomain', \n",
    "       'trafficSource.adContent',\n",
    "       'trafficSource.campaign',\n",
    "#        'trafficSource.isTrueDirect', \n",
    "#            'trafficSource.keyword',\n",
    "#        'trafficSource.medium', \n",
    "           'trafficSource.referralPath'\n",
    "#            ,\n",
    "#        'trafficSource.source'\n",
    "          ]"
   ]
  },
  {
   "cell_type": "code",
   "execution_count": 167,
   "metadata": {},
   "outputs": [],
   "source": [
    "df_train.drop(to_drop, axis=1, inplace=True)\n",
    "df_test.drop(to_drop, axis=1, inplace=True)"
   ]
  },
  {
   "cell_type": "code",
   "execution_count": 168,
   "metadata": {},
   "outputs": [],
   "source": [
    "from datetime import datetime\n",
    "\n",
    "# This function is to extract date features\n",
    "def date_process(df):\n",
    "    df[\"date\"] = pd.to_datetime(df[\"date\"], format=\"%Y%m%d\") # setting the column as pandas datetime\n",
    "    df[\"_weekday\"] = df['date'].dt.weekday #extracting week day\n",
    "    df[\"_day\"] = df['date'].dt.day # extracting day\n",
    "    df[\"_month\"] = df['date'].dt.month # extracting day\n",
    "    df[\"_year\"] = df['date'].dt.year # extracting day\n",
    "    df['_visitHour'] = (df['visitStartTime'].apply(lambda x: str(datetime.fromtimestamp(x).hour))).astype(int)\n",
    "    \n",
    "    return df #returning the df after the transformations"
   ]
  },
  {
   "cell_type": "code",
   "execution_count": 169,
   "metadata": {},
   "outputs": [],
   "source": [
    "df_train = date_process(df_train)\n",
    "df_test = date_process(df_test)"
   ]
  },
  {
   "cell_type": "code",
   "execution_count": 170,
   "metadata": {},
   "outputs": [],
   "source": [
    "def NumericalColumns(df):    # fillna numeric feature\n",
    "    df['totals.pageviews'].fillna(1, inplace=True) #filling NA's with 1\n",
    "    df['totals.newVisits'].fillna(0, inplace=True) #filling NA's with 0\n",
    "    df['totals.transactions'].fillna(0, inplace=True) #filling NA's with 0\n",
    "#     df['totals.timeOnSite'].fillna(0, inplace=True) #filling NA's with 0\n",
    "    \n",
    "    df['totals.bounces'].fillna(0, inplace=True)   #filling NA's with 0\n",
    "    df['trafficSource.isTrueDirect'].fillna(False, inplace=True) # filling boolean with False\n",
    "    df['trafficSource.adwordsClickInfo.isVideoAd'].fillna(True, inplace=True) # filling boolean with True\n",
    "    df[\"totals.transactionRevenue\"] = df[\"totals.transactionRevenue\"].fillna(1.0).astype(float) #filling NA with zero\n",
    "    df['totals.pageviews'] = df['totals.pageviews'].astype(int) # setting numerical column as integer\n",
    "    df['totals.newVisits'] = df['totals.newVisits'].astype(int) # setting numerical column as integer\n",
    "#     df['totals.bounces'] = df['totals.bounces'].astype(int)  # setting numerical column as integer\n",
    "    df[\"totals.hits\"] = df[\"totals.hits\"].astype(float) # setting numerical to float\n",
    "    df['totals.visits'] = df['totals.visits'].astype(int) # seting as int\n",
    "\n",
    "    return df #return the transformed dataframe"
   ]
  },
  {
   "cell_type": "code",
   "execution_count": 171,
   "metadata": {},
   "outputs": [],
   "source": [
    "df_train = NumericalColumns(df_train)\n",
    "df_test = NumericalColumns(df_test)\n"
   ]
  },
  {
   "cell_type": "code",
   "execution_count": 172,
   "metadata": {},
   "outputs": [
    {
     "data": {
      "text/html": [
       "<div>\n",
       "<style scoped>\n",
       "    .dataframe tbody tr th:only-of-type {\n",
       "        vertical-align: middle;\n",
       "    }\n",
       "\n",
       "    .dataframe tbody tr th {\n",
       "        vertical-align: top;\n",
       "    }\n",
       "\n",
       "    .dataframe thead th {\n",
       "        text-align: right;\n",
       "    }\n",
       "</style>\n",
       "<table border=\"1\" class=\"dataframe\">\n",
       "  <thead>\n",
       "    <tr style=\"text-align: right;\">\n",
       "      <th></th>\n",
       "      <th>0</th>\n",
       "      <th>1</th>\n",
       "      <th>2</th>\n",
       "      <th>3</th>\n",
       "      <th>4</th>\n",
       "    </tr>\n",
       "  </thead>\n",
       "  <tbody>\n",
       "    <tr>\n",
       "      <th>channelGrouping</th>\n",
       "      <td>Organic Search</td>\n",
       "      <td>Referral</td>\n",
       "      <td>Direct</td>\n",
       "      <td>Organic Search</td>\n",
       "      <td>Organic Search</td>\n",
       "    </tr>\n",
       "    <tr>\n",
       "      <th>date</th>\n",
       "      <td>2017-10-16 00:00:00</td>\n",
       "      <td>2017-10-16 00:00:00</td>\n",
       "      <td>2017-10-16 00:00:00</td>\n",
       "      <td>2017-10-16 00:00:00</td>\n",
       "      <td>2017-10-16 00:00:00</td>\n",
       "    </tr>\n",
       "    <tr>\n",
       "      <th>fullVisitorId</th>\n",
       "      <td>3162355547410993243</td>\n",
       "      <td>8934116514970143966</td>\n",
       "      <td>7992466427990357681</td>\n",
       "      <td>9075655783635761930</td>\n",
       "      <td>6960673291025684308</td>\n",
       "    </tr>\n",
       "    <tr>\n",
       "      <th>visitStartTime</th>\n",
       "      <td>1.5082e+09</td>\n",
       "      <td>1.50818e+09</td>\n",
       "      <td>1.5082e+09</td>\n",
       "      <td>1.50817e+09</td>\n",
       "      <td>1.50819e+09</td>\n",
       "    </tr>\n",
       "    <tr>\n",
       "      <th>device.browser</th>\n",
       "      <td>Firefox</td>\n",
       "      <td>Chrome</td>\n",
       "      <td>Chrome</td>\n",
       "      <td>Chrome</td>\n",
       "      <td>Chrome</td>\n",
       "    </tr>\n",
       "    <tr>\n",
       "      <th>device.deviceCategory</th>\n",
       "      <td>desktop</td>\n",
       "      <td>desktop</td>\n",
       "      <td>mobile</td>\n",
       "      <td>desktop</td>\n",
       "      <td>desktop</td>\n",
       "    </tr>\n",
       "    <tr>\n",
       "      <th>device.isMobile</th>\n",
       "      <td>0</td>\n",
       "      <td>0</td>\n",
       "      <td>1</td>\n",
       "      <td>0</td>\n",
       "      <td>0</td>\n",
       "    </tr>\n",
       "    <tr>\n",
       "      <th>device.operatingSystem</th>\n",
       "      <td>Windows</td>\n",
       "      <td>Chrome OS</td>\n",
       "      <td>Android</td>\n",
       "      <td>Windows</td>\n",
       "      <td>Windows</td>\n",
       "    </tr>\n",
       "    <tr>\n",
       "      <th>geoNetwork.city</th>\n",
       "      <td>not available in demo dataset</td>\n",
       "      <td>Cupertino</td>\n",
       "      <td>not available in demo dataset</td>\n",
       "      <td>not available in demo dataset</td>\n",
       "      <td>not available in demo dataset</td>\n",
       "    </tr>\n",
       "    <tr>\n",
       "      <th>geoNetwork.continent</th>\n",
       "      <td>Europe</td>\n",
       "      <td>Americas</td>\n",
       "      <td>Americas</td>\n",
       "      <td>Asia</td>\n",
       "      <td>Americas</td>\n",
       "    </tr>\n",
       "    <tr>\n",
       "      <th>geoNetwork.country</th>\n",
       "      <td>Germany</td>\n",
       "      <td>United States</td>\n",
       "      <td>United States</td>\n",
       "      <td>Turkey</td>\n",
       "      <td>Mexico</td>\n",
       "    </tr>\n",
       "    <tr>\n",
       "      <th>geoNetwork.region</th>\n",
       "      <td>not available in demo dataset</td>\n",
       "      <td>California</td>\n",
       "      <td>not available in demo dataset</td>\n",
       "      <td>not available in demo dataset</td>\n",
       "      <td>not available in demo dataset</td>\n",
       "    </tr>\n",
       "    <tr>\n",
       "      <th>geoNetwork.subContinent</th>\n",
       "      <td>Western Europe</td>\n",
       "      <td>Northern America</td>\n",
       "      <td>Northern America</td>\n",
       "      <td>Western Asia</td>\n",
       "      <td>Central America</td>\n",
       "    </tr>\n",
       "    <tr>\n",
       "      <th>totals.bounces</th>\n",
       "      <td>1</td>\n",
       "      <td>0</td>\n",
       "      <td>0</td>\n",
       "      <td>0</td>\n",
       "      <td>0</td>\n",
       "    </tr>\n",
       "    <tr>\n",
       "      <th>totals.hits</th>\n",
       "      <td>1</td>\n",
       "      <td>2</td>\n",
       "      <td>2</td>\n",
       "      <td>2</td>\n",
       "      <td>2</td>\n",
       "    </tr>\n",
       "    <tr>\n",
       "      <th>totals.newVisits</th>\n",
       "      <td>1</td>\n",
       "      <td>0</td>\n",
       "      <td>1</td>\n",
       "      <td>1</td>\n",
       "      <td>1</td>\n",
       "    </tr>\n",
       "    <tr>\n",
       "      <th>totals.pageviews</th>\n",
       "      <td>1</td>\n",
       "      <td>2</td>\n",
       "      <td>2</td>\n",
       "      <td>2</td>\n",
       "      <td>2</td>\n",
       "    </tr>\n",
       "    <tr>\n",
       "      <th>totals.transactionRevenue</th>\n",
       "      <td>1</td>\n",
       "      <td>1</td>\n",
       "      <td>1</td>\n",
       "      <td>1</td>\n",
       "      <td>1</td>\n",
       "    </tr>\n",
       "    <tr>\n",
       "      <th>_weekday</th>\n",
       "      <td>0</td>\n",
       "      <td>0</td>\n",
       "      <td>0</td>\n",
       "      <td>0</td>\n",
       "      <td>0</td>\n",
       "    </tr>\n",
       "    <tr>\n",
       "      <th>_day</th>\n",
       "      <td>16</td>\n",
       "      <td>16</td>\n",
       "      <td>16</td>\n",
       "      <td>16</td>\n",
       "      <td>16</td>\n",
       "    </tr>\n",
       "    <tr>\n",
       "      <th>_month</th>\n",
       "      <td>10</td>\n",
       "      <td>10</td>\n",
       "      <td>10</td>\n",
       "      <td>10</td>\n",
       "      <td>10</td>\n",
       "    </tr>\n",
       "    <tr>\n",
       "      <th>_year</th>\n",
       "      <td>2017</td>\n",
       "      <td>2017</td>\n",
       "      <td>2017</td>\n",
       "      <td>2017</td>\n",
       "      <td>2017</td>\n",
       "    </tr>\n",
       "    <tr>\n",
       "      <th>_visitHour</th>\n",
       "      <td>20</td>\n",
       "      <td>13</td>\n",
       "      <td>20</td>\n",
       "      <td>12</td>\n",
       "      <td>17</td>\n",
       "    </tr>\n",
       "  </tbody>\n",
       "</table>\n",
       "</div>"
      ],
      "text/plain": [
       "                                                       0                    1  \\\n",
       "channelGrouping                           Organic Search             Referral   \n",
       "date                                 2017-10-16 00:00:00  2017-10-16 00:00:00   \n",
       "fullVisitorId                        3162355547410993243  8934116514970143966   \n",
       "visitStartTime                                1.5082e+09          1.50818e+09   \n",
       "device.browser                                   Firefox               Chrome   \n",
       "device.deviceCategory                            desktop              desktop   \n",
       "device.isMobile                                        0                    0   \n",
       "device.operatingSystem                           Windows            Chrome OS   \n",
       "geoNetwork.city            not available in demo dataset            Cupertino   \n",
       "geoNetwork.continent                              Europe             Americas   \n",
       "geoNetwork.country                               Germany        United States   \n",
       "geoNetwork.region          not available in demo dataset           California   \n",
       "geoNetwork.subContinent                   Western Europe     Northern America   \n",
       "totals.bounces                                         1                    0   \n",
       "totals.hits                                            1                    2   \n",
       "totals.newVisits                                       1                    0   \n",
       "totals.pageviews                                       1                    2   \n",
       "totals.transactionRevenue                              1                    1   \n",
       "_weekday                                               0                    0   \n",
       "_day                                                  16                   16   \n",
       "_month                                                10                   10   \n",
       "_year                                               2017                 2017   \n",
       "_visitHour                                            20                   13   \n",
       "\n",
       "                                                       2  \\\n",
       "channelGrouping                                   Direct   \n",
       "date                                 2017-10-16 00:00:00   \n",
       "fullVisitorId                        7992466427990357681   \n",
       "visitStartTime                                1.5082e+09   \n",
       "device.browser                                    Chrome   \n",
       "device.deviceCategory                             mobile   \n",
       "device.isMobile                                        1   \n",
       "device.operatingSystem                           Android   \n",
       "geoNetwork.city            not available in demo dataset   \n",
       "geoNetwork.continent                            Americas   \n",
       "geoNetwork.country                         United States   \n",
       "geoNetwork.region          not available in demo dataset   \n",
       "geoNetwork.subContinent                 Northern America   \n",
       "totals.bounces                                         0   \n",
       "totals.hits                                            2   \n",
       "totals.newVisits                                       1   \n",
       "totals.pageviews                                       2   \n",
       "totals.transactionRevenue                              1   \n",
       "_weekday                                               0   \n",
       "_day                                                  16   \n",
       "_month                                                10   \n",
       "_year                                               2017   \n",
       "_visitHour                                            20   \n",
       "\n",
       "                                                       3  \\\n",
       "channelGrouping                           Organic Search   \n",
       "date                                 2017-10-16 00:00:00   \n",
       "fullVisitorId                        9075655783635761930   \n",
       "visitStartTime                               1.50817e+09   \n",
       "device.browser                                    Chrome   \n",
       "device.deviceCategory                            desktop   \n",
       "device.isMobile                                        0   \n",
       "device.operatingSystem                           Windows   \n",
       "geoNetwork.city            not available in demo dataset   \n",
       "geoNetwork.continent                                Asia   \n",
       "geoNetwork.country                                Turkey   \n",
       "geoNetwork.region          not available in demo dataset   \n",
       "geoNetwork.subContinent                     Western Asia   \n",
       "totals.bounces                                         0   \n",
       "totals.hits                                            2   \n",
       "totals.newVisits                                       1   \n",
       "totals.pageviews                                       2   \n",
       "totals.transactionRevenue                              1   \n",
       "_weekday                                               0   \n",
       "_day                                                  16   \n",
       "_month                                                10   \n",
       "_year                                               2017   \n",
       "_visitHour                                            12   \n",
       "\n",
       "                                                       4  \n",
       "channelGrouping                           Organic Search  \n",
       "date                                 2017-10-16 00:00:00  \n",
       "fullVisitorId                        6960673291025684308  \n",
       "visitStartTime                               1.50819e+09  \n",
       "device.browser                                    Chrome  \n",
       "device.deviceCategory                            desktop  \n",
       "device.isMobile                                        0  \n",
       "device.operatingSystem                           Windows  \n",
       "geoNetwork.city            not available in demo dataset  \n",
       "geoNetwork.continent                            Americas  \n",
       "geoNetwork.country                                Mexico  \n",
       "geoNetwork.region          not available in demo dataset  \n",
       "geoNetwork.subContinent                  Central America  \n",
       "totals.bounces                                         0  \n",
       "totals.hits                                            2  \n",
       "totals.newVisits                                       1  \n",
       "totals.pageviews                                       2  \n",
       "totals.transactionRevenue                              1  \n",
       "_weekday                                               0  \n",
       "_day                                                  16  \n",
       "_month                                                10  \n",
       "_year                                               2017  \n",
       "_visitHour                                            17  "
      ]
     },
     "execution_count": 172,
     "metadata": {},
     "output_type": "execute_result"
    }
   ],
   "source": [
    "df_train.head().T.head(40)"
   ]
  },
  {
   "cell_type": "code",
   "execution_count": 173,
   "metadata": {},
   "outputs": [
    {
     "data": {
      "text/html": [
       "<div>\n",
       "<style scoped>\n",
       "    .dataframe tbody tr th:only-of-type {\n",
       "        vertical-align: middle;\n",
       "    }\n",
       "\n",
       "    .dataframe tbody tr th {\n",
       "        vertical-align: top;\n",
       "    }\n",
       "\n",
       "    .dataframe thead th {\n",
       "        text-align: right;\n",
       "    }\n",
       "</style>\n",
       "<table border=\"1\" class=\"dataframe\">\n",
       "  <thead>\n",
       "    <tr style=\"text-align: right;\">\n",
       "      <th></th>\n",
       "      <th>0</th>\n",
       "      <th>1</th>\n",
       "      <th>2</th>\n",
       "      <th>3</th>\n",
       "      <th>4</th>\n",
       "    </tr>\n",
       "  </thead>\n",
       "  <tbody>\n",
       "    <tr>\n",
       "      <th>channelGrouping</th>\n",
       "      <td>Organic Search</td>\n",
       "      <td>Direct</td>\n",
       "      <td>Organic Search</td>\n",
       "      <td>Direct</td>\n",
       "      <td>Organic Search</td>\n",
       "    </tr>\n",
       "    <tr>\n",
       "      <th>date</th>\n",
       "      <td>2018-05-11 00:00:00</td>\n",
       "      <td>2018-05-11 00:00:00</td>\n",
       "      <td>2018-05-11 00:00:00</td>\n",
       "      <td>2018-05-11 00:00:00</td>\n",
       "      <td>2018-05-11 00:00:00</td>\n",
       "    </tr>\n",
       "    <tr>\n",
       "      <th>fullVisitorId</th>\n",
       "      <td>7460955084541987166</td>\n",
       "      <td>460252456180441002</td>\n",
       "      <td>3461808543879602873</td>\n",
       "      <td>975129477712150630</td>\n",
       "      <td>8381672768065729990</td>\n",
       "    </tr>\n",
       "    <tr>\n",
       "      <th>visitStartTime</th>\n",
       "      <td>1.5261e+09</td>\n",
       "      <td>1.52606e+09</td>\n",
       "      <td>1.52607e+09</td>\n",
       "      <td>1.52611e+09</td>\n",
       "      <td>1.52606e+09</td>\n",
       "    </tr>\n",
       "    <tr>\n",
       "      <th>device.browser</th>\n",
       "      <td>Chrome</td>\n",
       "      <td>Chrome</td>\n",
       "      <td>Chrome</td>\n",
       "      <td>Chrome</td>\n",
       "      <td>Internet Explorer</td>\n",
       "    </tr>\n",
       "    <tr>\n",
       "      <th>device.deviceCategory</th>\n",
       "      <td>mobile</td>\n",
       "      <td>desktop</td>\n",
       "      <td>desktop</td>\n",
       "      <td>mobile</td>\n",
       "      <td>tablet</td>\n",
       "    </tr>\n",
       "    <tr>\n",
       "      <th>device.isMobile</th>\n",
       "      <td>1</td>\n",
       "      <td>0</td>\n",
       "      <td>0</td>\n",
       "      <td>1</td>\n",
       "      <td>1</td>\n",
       "    </tr>\n",
       "    <tr>\n",
       "      <th>device.operatingSystem</th>\n",
       "      <td>Android</td>\n",
       "      <td>Macintosh</td>\n",
       "      <td>Chrome OS</td>\n",
       "      <td>iOS</td>\n",
       "      <td>Windows</td>\n",
       "    </tr>\n",
       "    <tr>\n",
       "      <th>geoNetwork.city</th>\n",
       "      <td>(not set)</td>\n",
       "      <td>San Francisco</td>\n",
       "      <td>not available in demo dataset</td>\n",
       "      <td>Houston</td>\n",
       "      <td>Irvine</td>\n",
       "    </tr>\n",
       "    <tr>\n",
       "      <th>geoNetwork.continent</th>\n",
       "      <td>Asia</td>\n",
       "      <td>Americas</td>\n",
       "      <td>Americas</td>\n",
       "      <td>Americas</td>\n",
       "      <td>Americas</td>\n",
       "    </tr>\n",
       "    <tr>\n",
       "      <th>geoNetwork.country</th>\n",
       "      <td>India</td>\n",
       "      <td>United States</td>\n",
       "      <td>United States</td>\n",
       "      <td>United States</td>\n",
       "      <td>United States</td>\n",
       "    </tr>\n",
       "    <tr>\n",
       "      <th>geoNetwork.region</th>\n",
       "      <td>Delhi</td>\n",
       "      <td>California</td>\n",
       "      <td>not available in demo dataset</td>\n",
       "      <td>Texas</td>\n",
       "      <td>California</td>\n",
       "    </tr>\n",
       "    <tr>\n",
       "      <th>geoNetwork.subContinent</th>\n",
       "      <td>Southern Asia</td>\n",
       "      <td>Northern America</td>\n",
       "      <td>Northern America</td>\n",
       "      <td>Northern America</td>\n",
       "      <td>Northern America</td>\n",
       "    </tr>\n",
       "    <tr>\n",
       "      <th>totals.bounces</th>\n",
       "      <td>0</td>\n",
       "      <td>0</td>\n",
       "      <td>0</td>\n",
       "      <td>0</td>\n",
       "      <td>0</td>\n",
       "    </tr>\n",
       "    <tr>\n",
       "      <th>totals.hits</th>\n",
       "      <td>4</td>\n",
       "      <td>4</td>\n",
       "      <td>4</td>\n",
       "      <td>5</td>\n",
       "      <td>5</td>\n",
       "    </tr>\n",
       "    <tr>\n",
       "      <th>totals.newVisits</th>\n",
       "      <td>0</td>\n",
       "      <td>0</td>\n",
       "      <td>0</td>\n",
       "      <td>0</td>\n",
       "      <td>1</td>\n",
       "    </tr>\n",
       "    <tr>\n",
       "      <th>totals.pageviews</th>\n",
       "      <td>3</td>\n",
       "      <td>3</td>\n",
       "      <td>3</td>\n",
       "      <td>4</td>\n",
       "      <td>4</td>\n",
       "    </tr>\n",
       "    <tr>\n",
       "      <th>totals.transactionRevenue</th>\n",
       "      <td>1</td>\n",
       "      <td>1</td>\n",
       "      <td>1</td>\n",
       "      <td>1</td>\n",
       "      <td>1</td>\n",
       "    </tr>\n",
       "    <tr>\n",
       "      <th>_weekday</th>\n",
       "      <td>4</td>\n",
       "      <td>4</td>\n",
       "      <td>4</td>\n",
       "      <td>4</td>\n",
       "      <td>4</td>\n",
       "    </tr>\n",
       "    <tr>\n",
       "      <th>_day</th>\n",
       "      <td>11</td>\n",
       "      <td>11</td>\n",
       "      <td>11</td>\n",
       "      <td>11</td>\n",
       "      <td>11</td>\n",
       "    </tr>\n",
       "    <tr>\n",
       "      <th>_month</th>\n",
       "      <td>5</td>\n",
       "      <td>5</td>\n",
       "      <td>5</td>\n",
       "      <td>5</td>\n",
       "      <td>5</td>\n",
       "    </tr>\n",
       "    <tr>\n",
       "      <th>_year</th>\n",
       "      <td>2018</td>\n",
       "      <td>2018</td>\n",
       "      <td>2018</td>\n",
       "      <td>2018</td>\n",
       "      <td>2018</td>\n",
       "    </tr>\n",
       "    <tr>\n",
       "      <th>_visitHour</th>\n",
       "      <td>0</td>\n",
       "      <td>14</td>\n",
       "      <td>15</td>\n",
       "      <td>2</td>\n",
       "      <td>13</td>\n",
       "    </tr>\n",
       "  </tbody>\n",
       "</table>\n",
       "</div>"
      ],
      "text/plain": [
       "                                             0                    1  \\\n",
       "channelGrouping                 Organic Search               Direct   \n",
       "date                       2018-05-11 00:00:00  2018-05-11 00:00:00   \n",
       "fullVisitorId              7460955084541987166   460252456180441002   \n",
       "visitStartTime                      1.5261e+09          1.52606e+09   \n",
       "device.browser                          Chrome               Chrome   \n",
       "device.deviceCategory                   mobile              desktop   \n",
       "device.isMobile                              1                    0   \n",
       "device.operatingSystem                 Android            Macintosh   \n",
       "geoNetwork.city                      (not set)        San Francisco   \n",
       "geoNetwork.continent                      Asia             Americas   \n",
       "geoNetwork.country                       India        United States   \n",
       "geoNetwork.region                        Delhi           California   \n",
       "geoNetwork.subContinent          Southern Asia     Northern America   \n",
       "totals.bounces                               0                    0   \n",
       "totals.hits                                  4                    4   \n",
       "totals.newVisits                             0                    0   \n",
       "totals.pageviews                             3                    3   \n",
       "totals.transactionRevenue                    1                    1   \n",
       "_weekday                                     4                    4   \n",
       "_day                                        11                   11   \n",
       "_month                                       5                    5   \n",
       "_year                                     2018                 2018   \n",
       "_visitHour                                   0                   14   \n",
       "\n",
       "                                                       2                    3  \\\n",
       "channelGrouping                           Organic Search               Direct   \n",
       "date                                 2018-05-11 00:00:00  2018-05-11 00:00:00   \n",
       "fullVisitorId                        3461808543879602873   975129477712150630   \n",
       "visitStartTime                               1.52607e+09          1.52611e+09   \n",
       "device.browser                                    Chrome               Chrome   \n",
       "device.deviceCategory                            desktop               mobile   \n",
       "device.isMobile                                        0                    1   \n",
       "device.operatingSystem                         Chrome OS                  iOS   \n",
       "geoNetwork.city            not available in demo dataset              Houston   \n",
       "geoNetwork.continent                            Americas             Americas   \n",
       "geoNetwork.country                         United States        United States   \n",
       "geoNetwork.region          not available in demo dataset                Texas   \n",
       "geoNetwork.subContinent                 Northern America     Northern America   \n",
       "totals.bounces                                         0                    0   \n",
       "totals.hits                                            4                    5   \n",
       "totals.newVisits                                       0                    0   \n",
       "totals.pageviews                                       3                    4   \n",
       "totals.transactionRevenue                              1                    1   \n",
       "_weekday                                               4                    4   \n",
       "_day                                                  11                   11   \n",
       "_month                                                 5                    5   \n",
       "_year                                               2018                 2018   \n",
       "_visitHour                                            15                    2   \n",
       "\n",
       "                                             4  \n",
       "channelGrouping                 Organic Search  \n",
       "date                       2018-05-11 00:00:00  \n",
       "fullVisitorId              8381672768065729990  \n",
       "visitStartTime                     1.52606e+09  \n",
       "device.browser               Internet Explorer  \n",
       "device.deviceCategory                   tablet  \n",
       "device.isMobile                              1  \n",
       "device.operatingSystem                 Windows  \n",
       "geoNetwork.city                         Irvine  \n",
       "geoNetwork.continent                  Americas  \n",
       "geoNetwork.country               United States  \n",
       "geoNetwork.region                   California  \n",
       "geoNetwork.subContinent       Northern America  \n",
       "totals.bounces                               0  \n",
       "totals.hits                                  5  \n",
       "totals.newVisits                             1  \n",
       "totals.pageviews                             4  \n",
       "totals.transactionRevenue                    1  \n",
       "_weekday                                     4  \n",
       "_day                                        11  \n",
       "_month                                       5  \n",
       "_year                                     2018  \n",
       "_visitHour                                  13  "
      ]
     },
     "execution_count": 173,
     "metadata": {},
     "output_type": "execute_result"
    }
   ],
   "source": [
    "df_test.head().T.head(40)"
   ]
  },
  {
   "cell_type": "code",
   "execution_count": 174,
   "metadata": {},
   "outputs": [],
   "source": [
    "cat_vars = ['channelGrouping', \n",
    "       'device.browser', 'device.operatingSystem',\n",
    "#        'device.operatingSystemVersion', \n",
    "            'geoNetwork.city',\n",
    "       'geoNetwork.continent', 'geoNetwork.country', 'geoNetwork.region',\n",
    "       'geoNetwork.subContinent','_weekday','_day','_month','_year','_visitHour']\n",
    "contin_vars = ['totals.hits', 'totals.newVisits',\n",
    "       'totals.pageviews']\n",
    "#                , 'totals.timeOnSite', \n",
    "#        'totals.transactions', 'totals.visits']\n",
    "#  'fullVisitorId',"
   ]
  },
  {
   "cell_type": "code",
   "execution_count": 175,
   "metadata": {},
   "outputs": [],
   "source": [
    "dep = 'totals.transactionRevenue'\n",
    "df_train = df_train[cat_vars+contin_vars+[dep, 'date']].copy()"
   ]
  },
  {
   "cell_type": "code",
   "execution_count": 176,
   "metadata": {},
   "outputs": [],
   "source": [
    "df_test[dep] = 0.0\n",
    "df_test = df_test[cat_vars+contin_vars+[dep, 'date', 'fullVisitorId']].copy()"
   ]
  },
  {
   "cell_type": "code",
   "execution_count": 177,
   "metadata": {},
   "outputs": [],
   "source": [
    "for v in cat_vars: df_train[v] = df_train[v].astype('category').cat.as_ordered()"
   ]
  },
  {
   "cell_type": "code",
   "execution_count": 178,
   "metadata": {},
   "outputs": [],
   "source": [
    "apply_cats(df_test, df_train)"
   ]
  },
  {
   "cell_type": "code",
   "execution_count": 179,
   "metadata": {},
   "outputs": [],
   "source": [
    "for v in contin_vars:\n",
    "    df_train[v] = df_train[v].fillna(0).astype('float32')\n",
    "    df_test[v] = df_test[v].fillna(0).astype('float32')"
   ]
  },
  {
   "cell_type": "code",
   "execution_count": 180,
   "metadata": {},
   "outputs": [],
   "source": [
    "samp_size = len(df_train)\n",
    "df_samp = df_train.set_index(\"date\")"
   ]
  },
  {
   "cell_type": "code",
   "execution_count": 181,
   "metadata": {},
   "outputs": [],
   "source": [
    "df, y, nas, mapper = proc_df(df_samp, 'totals.transactionRevenue', do_scale=True)\n",
    "yl = np.log(y)"
   ]
  },
  {
   "cell_type": "code",
   "execution_count": 182,
   "metadata": {},
   "outputs": [],
   "source": [
    "df_test = df_test.set_index(\"date\")"
   ]
  },
  {
   "cell_type": "code",
   "execution_count": 183,
   "metadata": {},
   "outputs": [],
   "source": [
    "df_test1, _, nas, mapper = proc_df(df_test, dep, do_scale=True,skip_flds=['fullVisitorId'],mapper=mapper, na_dict=nas)"
   ]
  },
  {
   "cell_type": "code",
   "execution_count": 184,
   "metadata": {},
   "outputs": [],
   "source": [
    "train_ratio = 0.75\n",
    "# train_ratio = 0.9\n",
    "train_size = int(samp_size * train_ratio); train_size\n",
    "val_idx = list(range(train_size, len(df)))"
   ]
  },
  {
   "cell_type": "code",
   "execution_count": 185,
   "metadata": {},
   "outputs": [],
   "source": [
    "def inv_y(a): return np.exp(a)\n",
    "\n",
    "def exp_rmspe(y_pred, targ):\n",
    "    targ = inv_y(targ)\n",
    "    pct_var = (targ - inv_y(y_pred))/targ\n",
    "    return math.sqrt((pct_var**2).mean())\n",
    "\n",
    "max_log_y = np.max(yl)\n",
    "y_range = (0, max_log_y*1.2)"
   ]
  },
  {
   "cell_type": "code",
   "execution_count": 186,
   "metadata": {},
   "outputs": [],
   "source": [
    "md = ColumnarModelData.from_data_frame(PATH, val_idx, df, yl.astype(np.float32), cat_flds=cat_vars, bs=128,\n",
    "                                       test_df=df_test1)"
   ]
  },
  {
   "cell_type": "code",
   "execution_count": 187,
   "metadata": {},
   "outputs": [],
   "source": [
    "cat_sz = [(c, len(df_samp[c].cat.categories)+1) for c in cat_vars]"
   ]
  },
  {
   "cell_type": "code",
   "execution_count": 188,
   "metadata": {},
   "outputs": [
    {
     "data": {
      "text/plain": [
       "[('channelGrouping', 9),\n",
       " ('device.browser', 120),\n",
       " ('device.operatingSystem', 25),\n",
       " ('geoNetwork.city', 941),\n",
       " ('geoNetwork.continent', 7),\n",
       " ('geoNetwork.country', 229),\n",
       " ('geoNetwork.region', 479),\n",
       " ('geoNetwork.subContinent', 24),\n",
       " ('_weekday', 8),\n",
       " ('_day', 32),\n",
       " ('_month', 13),\n",
       " ('_year', 4),\n",
       " ('_visitHour', 25)]"
      ]
     },
     "execution_count": 188,
     "metadata": {},
     "output_type": "execute_result"
    }
   ],
   "source": [
    "cat_sz"
   ]
  },
  {
   "cell_type": "code",
   "execution_count": 189,
   "metadata": {},
   "outputs": [],
   "source": [
    "emb_szs = [(c, min(50, (c+1)//2)) for _,c in cat_sz]"
   ]
  },
  {
   "cell_type": "code",
   "execution_count": 190,
   "metadata": {},
   "outputs": [
    {
     "data": {
      "text/plain": [
       "[(9, 5),\n",
       " (120, 50),\n",
       " (25, 13),\n",
       " (941, 50),\n",
       " (7, 4),\n",
       " (229, 50),\n",
       " (479, 50),\n",
       " (24, 12),\n",
       " (8, 4),\n",
       " (32, 16),\n",
       " (13, 7),\n",
       " (4, 2),\n",
       " (25, 13)]"
      ]
     },
     "execution_count": 190,
     "metadata": {},
     "output_type": "execute_result"
    }
   ],
   "source": [
    "emb_szs"
   ]
  },
  {
   "cell_type": "code",
   "execution_count": 191,
   "metadata": {},
   "outputs": [],
   "source": [
    "m = md.get_learner(emb_szs,len(df.columns)-len(cat_vars),0.04,1,[1000,500],[0.001,0.01])"
   ]
  },
  {
   "cell_type": "code",
   "execution_count": 192,
   "metadata": {},
   "outputs": [
    {
     "data": {
      "text/plain": [
       "MixedInputModel(\n",
       "  (embs): ModuleList(\n",
       "    (0): Embedding(9, 5)\n",
       "    (1): Embedding(120, 50)\n",
       "    (2): Embedding(25, 13)\n",
       "    (3): Embedding(941, 50)\n",
       "    (4): Embedding(7, 4)\n",
       "    (5): Embedding(229, 50)\n",
       "    (6): Embedding(479, 50)\n",
       "    (7): Embedding(24, 12)\n",
       "    (8): Embedding(8, 4)\n",
       "    (9): Embedding(32, 16)\n",
       "    (10): Embedding(13, 7)\n",
       "    (11): Embedding(4, 2)\n",
       "    (12): Embedding(25, 13)\n",
       "  )\n",
       "  (lins): ModuleList(\n",
       "    (0): Linear(in_features=279, out_features=1000, bias=True)\n",
       "    (1): Linear(in_features=1000, out_features=500, bias=True)\n",
       "  )\n",
       "  (bns): ModuleList(\n",
       "    (0): BatchNorm1d(1000, eps=1e-05, momentum=0.1, affine=True)\n",
       "    (1): BatchNorm1d(500, eps=1e-05, momentum=0.1, affine=True)\n",
       "  )\n",
       "  (outp): Linear(in_features=500, out_features=1, bias=True)\n",
       "  (emb_drop): Dropout(p=0.04)\n",
       "  (drops): ModuleList(\n",
       "    (0): Dropout(p=0.001)\n",
       "    (1): Dropout(p=0.01)\n",
       "  )\n",
       "  (bn): BatchNorm1d(3, eps=1e-05, momentum=0.1, affine=True)\n",
       ")"
      ]
     },
     "execution_count": 192,
     "metadata": {},
     "output_type": "execute_result"
    }
   ],
   "source": [
    "m.model"
   ]
  },
  {
   "cell_type": "code",
   "execution_count": 214,
   "metadata": {},
   "outputs": [
    {
     "data": {
      "application/vnd.jupyter.widget-view+json": {
       "model_id": "269c0b839d254b2ba5771f041a685934",
       "version_major": 2,
       "version_minor": 0
      },
      "text/plain": [
       "HBox(children=(IntProgress(value=0, description='Epoch', max=1), HTML(value='')))"
      ]
     },
     "metadata": {},
     "output_type": "display_data"
    },
    {
     "name": "stdout",
     "output_type": "stream",
     "text": [
      "epoch      trn_loss   val_loss                                                                                         \n",
      "    0      3.088454   3.355305  \n"
     ]
    }
   ],
   "source": [
    "lr=1e-3\n",
    "m.lr_find()"
   ]
  },
  {
   "cell_type": "code",
   "execution_count": 213,
   "metadata": {},
   "outputs": [
    {
     "ename": "AttributeError",
     "evalue": "'LossRecorder' object has no attribute 'plot'",
     "output_type": "error",
     "traceback": [
      "\u001b[1;31m---------------------------------------------------------------------------\u001b[0m",
      "\u001b[1;31mAttributeError\u001b[0m                            Traceback (most recent call last)",
      "\u001b[1;32m<ipython-input-213-3117f3d8586b>\u001b[0m in \u001b[0;36m<module>\u001b[1;34m()\u001b[0m\n\u001b[1;32m----> 1\u001b[1;33m \u001b[0mm\u001b[0m\u001b[1;33m.\u001b[0m\u001b[0msched\u001b[0m\u001b[1;33m.\u001b[0m\u001b[0mplot\u001b[0m\u001b[1;33m(\u001b[0m\u001b[1;36m100\u001b[0m\u001b[1;33m)\u001b[0m\u001b[1;33m\u001b[0m\u001b[0m\n\u001b[0m",
      "\u001b[1;31mAttributeError\u001b[0m: 'LossRecorder' object has no attribute 'plot'"
     ]
    }
   ],
   "source": [
    "m.sched.plot(100)"
   ]
  },
  {
   "cell_type": "code",
   "execution_count": 195,
   "metadata": {},
   "outputs": [],
   "source": [
    "m = md.get_learner(emb_szs, len(df.columns)-len(cat_vars),\n",
    "                   0.04, 1, [1000,500], [0.001,0.01], y_range=y_range)\n",
    "lr = 1e-4"
   ]
  },
  {
   "cell_type": "code",
   "execution_count": 196,
   "metadata": {},
   "outputs": [
    {
     "data": {
      "application/vnd.jupyter.widget-view+json": {
       "model_id": "979a5230b3b640348172bda0e9cc58d2",
       "version_major": 2,
       "version_minor": 0
      },
      "text/plain": [
       "HBox(children=(IntProgress(value=0, description='Epoch', max=3), HTML(value='')))"
      ]
     },
     "metadata": {},
     "output_type": "display_data"
    },
    {
     "name": "stdout",
     "output_type": "stream",
     "text": [
      "epoch      trn_loss   val_loss   exp_rmspe                                                                             \n",
      "    0      2.523746   2.460339   4437.702657\n",
      "    1      2.384632   2.423964   1552.556618                                                                           \n",
      "    2      2.553737   2.415122   38538.491944                                                                          \n"
     ]
    },
    {
     "data": {
      "text/plain": [
       "[array([2.41512]), 38538.49194369111]"
      ]
     },
     "execution_count": 196,
     "metadata": {},
     "output_type": "execute_result"
    }
   ],
   "source": [
    "m.fit(lr, 3, metrics=[exp_rmspe])"
   ]
  },
  {
   "cell_type": "code",
   "execution_count": 198,
   "metadata": {},
   "outputs": [],
   "source": [
    "m.save('model-workingv2')"
   ]
  },
  {
   "cell_type": "code",
   "execution_count": 199,
   "metadata": {},
   "outputs": [],
   "source": [
    "m.load('model-workingv2')"
   ]
  },
  {
   "cell_type": "code",
   "execution_count": 200,
   "metadata": {},
   "outputs": [],
   "source": [
    "x,y=m.predict_with_targs()"
   ]
  },
  {
   "cell_type": "code",
   "execution_count": 201,
   "metadata": {},
   "outputs": [
    {
     "data": {
      "text/plain": [
       "1359551.2874827487"
      ]
     },
     "execution_count": 201,
     "metadata": {},
     "output_type": "execute_result"
    }
   ],
   "source": [
    "exp_rmspe(x,y)"
   ]
  },
  {
   "cell_type": "code",
   "execution_count": 202,
   "metadata": {},
   "outputs": [],
   "source": [
    "pred_test=m.predict(True)\n",
    "pred_test = np.exp(pred_test)"
   ]
  },
  {
   "cell_type": "code",
   "execution_count": 203,
   "metadata": {},
   "outputs": [],
   "source": [
    "df_test[dep]=pred_test-1"
   ]
  },
  {
   "cell_type": "code",
   "execution_count": 205,
   "metadata": {},
   "outputs": [],
   "source": [
    "csv_fn=f'{PATH}/tmp/subv2.csv'"
   ]
  },
  {
   "cell_type": "code",
   "execution_count": 206,
   "metadata": {},
   "outputs": [],
   "source": [
    "df_test[['fullVisitorId',dep]].to_csv(csv_fn, index=False)"
   ]
  },
  {
   "cell_type": "code",
   "execution_count": 207,
   "metadata": {},
   "outputs": [],
   "source": [
    "df_try_unique = pd.read_csv(csv_fn,low_memory=False)"
   ]
  },
  {
   "cell_type": "code",
   "execution_count": 208,
   "metadata": {},
   "outputs": [
    {
     "data": {
      "text/plain": [
       "803178"
      ]
     },
     "execution_count": 208,
     "metadata": {},
     "output_type": "execute_result"
    }
   ],
   "source": [
    "# df_try_unique = df_try_unique.drop_duplicates(['fullVisitorId'])\n",
    "df_try_unique.size"
   ]
  },
  {
   "cell_type": "code",
   "execution_count": 209,
   "metadata": {},
   "outputs": [],
   "source": [
    "df_try_unique1 = df_try_unique.groupby('fullVisitorId').sum()"
   ]
  },
  {
   "cell_type": "code",
   "execution_count": 210,
   "metadata": {},
   "outputs": [],
   "source": [
    "df_try_unique1 = df_try_unique1.reset_index()"
   ]
  },
  {
   "cell_type": "code",
   "execution_count": 211,
   "metadata": {},
   "outputs": [
    {
     "data": {
      "text/plain": [
       "593060"
      ]
     },
     "execution_count": 211,
     "metadata": {},
     "output_type": "execute_result"
    }
   ],
   "source": [
    "# df_try_unique1 = df_try_unique1.drop_duplicates(['fullVisitorId'])\n",
    "df_try_unique1.size"
   ]
  },
  {
   "cell_type": "code",
   "execution_count": 212,
   "metadata": {},
   "outputs": [],
   "source": [
    "csv_fn1=f'{PATH}/tmp/submission_newv2.csv'\n",
    "df_try_unique1[['fullVisitorId','totals.transactionRevenue']].to_csv(csv_fn1, index=False)"
   ]
  },
  {
   "cell_type": "code",
   "execution_count": null,
   "metadata": {},
   "outputs": [],
   "source": []
  }
 ],
 "metadata": {
  "kernelspec": {
   "display_name": "Python 3",
   "language": "python",
   "name": "python3"
  },
  "language_info": {
   "codemirror_mode": {
    "name": "ipython",
    "version": 3
   },
   "file_extension": ".py",
   "mimetype": "text/x-python",
   "name": "python",
   "nbconvert_exporter": "python",
   "pygments_lexer": "ipython3",
   "version": "3.6.5"
  }
 },
 "nbformat": 4,
 "nbformat_minor": 2
}
