{
 "cells": [
  {
   "cell_type": "markdown",
   "metadata": {},
   "source": [
    "Google Analytics Customer Revenue - https://www.kaggle.com/c/ga-customer-revenue-prediction\n",
    "1) Two Data sets, train and test\n",
    "2) Entity embeddings of categorical variables\n",
    "3) y = TransactionRevenue, for given x=fullVisitorId"
   ]
  },
  {
   "cell_type": "markdown",
   "metadata": {},
   "source": [
    "Categorical Variables\n",
    "['channelGrouping', 'device.browser', 'device.deviceCategory', 'geoNetwork.city', 'device.operatingSystem', \n",
    "                'trafficSource.medium', 'trafficSource.source',\n",
    "                'geoNetwork.continent', 'geoNetwork.country', 'geoNetwork.metro', 'geoNetwork.networkDomain', 'geoNetwork.region',  'geoNetwork.subContinent']"
   ]
  },
  {
   "cell_type": "markdown",
   "metadata": {},
   "source": [
    "Continues Variables\n",
    " ['totals.visits', '_visitHour', '_day', '_month', '_weekday']"
   ]
  },
  {
   "cell_type": "markdown",
   "metadata": {},
   "source": [
    "json columns ['device', 'geoNetwork', 'totals', 'trafficSource']"
   ]
  },
  {
   "cell_type": "markdown",
   "metadata": {},
   "source": [
    "columns to drop   ['customDimensions','hits', 'visitId', 'totals.sessionQualityDim']"
   ]
  },
  {
   "cell_type": "markdown",
   "metadata": {},
   "source": [
    "Submission - Root Mean Squared Error (RMSE)\n",
    "For each fullVisitorId in the test set, you must predict the natural log of their total revenue in PredictedLogRevenue\n",
    "fullVisitorId,PredictedLogRevenue"
   ]
  },
  {
   "cell_type": "code",
   "execution_count": 1,
   "metadata": {},
   "outputs": [
    {
     "name": "stderr",
     "output_type": "stream",
     "text": [
      "D:\\python\\envs\\fastai\\lib\\site-packages\\sklearn\\ensemble\\weight_boosting.py:29: DeprecationWarning: numpy.core.umath_tests is an internal NumPy module and should not be imported. It will be removed in a future NumPy release.\n",
      "  from numpy.core.umath_tests import inner1d\n",
      "D:\\python\\envs\\fastai\\lib\\importlib\\_bootstrap.py:219: RuntimeWarning: cymem.cymem.Pool size changed, may indicate binary incompatibility. Expected 48 from C header, got 64 from PyObject\n",
      "  return f(*args, **kwds)\n",
      "D:\\python\\envs\\fastai\\lib\\importlib\\_bootstrap.py:219: RuntimeWarning: cymem.cymem.Address size changed, may indicate binary incompatibility. Expected 24 from C header, got 40 from PyObject\n",
      "  return f(*args, **kwds)\n"
     ]
    }
   ],
   "source": [
    "from os import path\n",
    "from fastai.text import *"
   ]
  },
  {
   "cell_type": "code",
   "execution_count": 2,
   "metadata": {},
   "outputs": [],
   "source": [
    "from fastai.structured import *\n",
    "from fastai.column_data import *"
   ]
  },
  {
   "cell_type": "code",
   "execution_count": 3,
   "metadata": {},
   "outputs": [],
   "source": [
    "import pandas as pd # to manipulate data frames \n",
    "import numpy as np # to work with matrix\n",
    "import json # to convert json in df\n",
    "from pandas.io.json import json_normalize # to normalize the json fi"
   ]
  },
  {
   "cell_type": "code",
   "execution_count": 4,
   "metadata": {},
   "outputs": [],
   "source": [
    "# json columns\n",
    "columns = ['device', 'geoNetwork', 'totals', 'trafficSource']"
   ]
  },
  {
   "cell_type": "code",
   "execution_count": 5,
   "metadata": {},
   "outputs": [],
   "source": [
    "PATH=Path('data/kg-google/')"
   ]
  },
  {
   "cell_type": "code",
   "execution_count": 13,
   "metadata": {},
   "outputs": [],
   "source": [
    "p=0.07\n",
    "chunksize=24000"
   ]
  },
  {
   "cell_type": "code",
   "execution_count": 16,
   "metadata": {},
   "outputs": [],
   "source": [
    "def json_read(filename):\n",
    "    df = pd.read_csv(PATH/filename,\n",
    "                     converters={column: json.loads for column in columns},\n",
    "                     dtype={'fullVisitorId': 'str'},\n",
    "                      skiprows=lambda i : i> 0 and random.random() > p\n",
    "#                      nrows=2000\n",
    "                     )\n",
    "    \n",
    "    for column in columns:\n",
    "        column_as_df = json_normalize(df[column])\n",
    "        column_as_df.columns = [f'{column}.{subcolumn}' for subcolumn in  column_as_df.columns]\n",
    "        df = df.drop(column,axis=1).merge(column_as_df,right_index=True,left_index=True)\n",
    "        \n",
    "#     print(f'Loaded {os,path.basename(data_frame)}. Shape: {df.shape}')\n",
    "    return df    \n"
   ]
  },
  {
   "cell_type": "code",
   "execution_count": 17,
   "metadata": {},
   "outputs": [],
   "source": [
    "df_train = json_read('train_v2.csv')"
   ]
  },
  {
   "cell_type": "code",
   "execution_count": 18,
   "metadata": {},
   "outputs": [],
   "source": [
    "df_test = json_read('test_v2.csv')"
   ]
  },
  {
   "cell_type": "code",
   "execution_count": 19,
   "metadata": {},
   "outputs": [],
   "source": [
    "def missing_values(data):\n",
    "    total = data.isnull().sum().sort_values(ascending=False)\n",
    "    percent = (data.isnull().sum() / data.isnull().count()*100).sort_values(ascending=False)\n",
    "    df = pd.concat([total, percent], axis=1, keys=['Total', 'Percent']) # Concatenating the total and percent\n",
    "    print(\"Total columns at least one Values: \")\n",
    "    print (df[~(df['Total'] == 0)]) # Returning values of nulls different of 0\n",
    "    print(\"\\n Total of Sales % of Total: \", round((df_train[df_train['totals.transactionRevenue'] != np.nan]['totals.transactionRevenue'].count() / len(df_train['totals.transactionRevenue']) * 100),4))\n",
    "    return "
   ]
  },
  {
   "cell_type": "code",
   "execution_count": 21,
   "metadata": {},
   "outputs": [],
   "source": [
    "#columns to drop\n",
    "to_drop = ['customDimensions', 'hits',\n",
    "       'socialEngagementType', 'visitId', 'visitNumber', \n",
    "        'device.browserSize', 'device.browserVersion',\n",
    "       'device.deviceCategory', 'device.flashVersion', 'device.isMobile',\n",
    "       'device.language', 'device.mobileDeviceBranding',\n",
    "       'device.mobileDeviceInfo', 'device.mobileDeviceMarketingName',\n",
    "       'device.mobileDeviceModel', 'device.mobileInputSelector',\n",
    "       'device.screenColors', 'device.screenResolution', \n",
    "       'geoNetwork.cityId', \n",
    "       'geoNetwork.latitude', 'geoNetwork.longitude', 'geoNetwork.metro',\n",
    "       'geoNetwork.networkDomain', 'geoNetwork.networkLocation',\n",
    "        'totals.bounces',\n",
    "       'totals.sessionQualityDim', \n",
    "       'totals.totalTransactionRevenue', \n",
    "       'trafficSource.adContent',\n",
    "       'trafficSource.adwordsClickInfo.adNetworkType',\n",
    "       'trafficSource.adwordsClickInfo.criteriaParameters',\n",
    "       'trafficSource.adwordsClickInfo.gclId',\n",
    "       'trafficSource.adwordsClickInfo.isVideoAd',\n",
    "       'trafficSource.adwordsClickInfo.page',\n",
    "       'trafficSource.adwordsClickInfo.slot', 'trafficSource.campaign',\n",
    "       'trafficSource.isTrueDirect', 'trafficSource.keyword',\n",
    "       'trafficSource.medium', 'trafficSource.referralPath',\n",
    "       'trafficSource.source'\n",
    "          ]"
   ]
  },
  {
   "cell_type": "code",
   "execution_count": 22,
   "metadata": {},
   "outputs": [],
   "source": [
    "df_train.drop(to_drop, axis=1, inplace=True)\n",
    "df_test.drop(to_drop, axis=1, inplace=True)\n"
   ]
  },
  {
   "cell_type": "markdown",
   "metadata": {},
   "source": [
    "Handle date"
   ]
  },
  {
   "cell_type": "code",
   "execution_count": 23,
   "metadata": {},
   "outputs": [],
   "source": [
    "from datetime import datetime\n",
    "\n",
    "# This function is to extract date features\n",
    "def date_process(df):\n",
    "    df[\"date\"] = pd.to_datetime(df[\"date\"], format=\"%Y%m%d\") # setting the column as pandas datetime\n",
    "    df[\"_weekday\"] = df['date'].dt.weekday #extracting week day\n",
    "    df[\"_day\"] = df['date'].dt.day # extracting day\n",
    "    df[\"_month\"] = df['date'].dt.month # extracting day\n",
    "    df[\"_year\"] = df['date'].dt.year # extracting day\n",
    "    df['_visitHour'] = (df['visitStartTime'].apply(lambda x: str(datetime.fromtimestamp(x).hour))).astype(int)\n",
    "    \n",
    "    return df #returning the df after the transformations"
   ]
  },
  {
   "cell_type": "code",
   "execution_count": 24,
   "metadata": {},
   "outputs": [],
   "source": [
    "df_train = date_process(df_train)\n",
    "# df_train.head(n=2)\n",
    "df_test = date_process(df_test)"
   ]
  },
  {
   "cell_type": "markdown",
   "metadata": {},
   "source": [
    "Fill NA values"
   ]
  },
  {
   "cell_type": "code",
   "execution_count": 25,
   "metadata": {},
   "outputs": [],
   "source": [
    "def FillingNaValues(df):    # fillna numeric feature\n",
    "    df['totals.pageviews'].fillna(1, inplace=True).astype(int) #filling NA's with 1\n",
    "    df['totals.newVisits'].fillna(0, inplace=True).astype(int) #filling NA's with 0\n",
    "    df['totals.bounces'].fillna(0, inplace=True).astype(int)   #filling NA's with 0\n",
    "    df[\"totals.transactionRevenue\"] = df[\"totals.transactionRevenue\"].fillna(1.0).astype(float) #filling NA with zero\n",
    "    df['trafficSource.isTrueDirect'].fillna(False, inplace=True) # filling boolean with False\n",
    "    df['trafficSource.adwordsClickInfo.isVideoAd'].fillna(True, inplace=True) # filling boolean with True\n",
    "    df_train.loc[df_train['geoNetwork.city'] == \"(not set)\", 'geoNetwork.city'] = np.nan\n",
    "    df_train['geoNetwork.city'].fillna(\"NaN\", inplace=True)\n",
    "\n",
    "    return df #return the transformed dataframe"
   ]
  },
  {
   "cell_type": "code",
   "execution_count": 26,
   "metadata": {},
   "outputs": [],
   "source": [
    "def NumericalColumns(df):    # fillna numeric feature\n",
    "    df['totals.pageviews'].fillna(1, inplace=True) #filling NA's with 1\n",
    "    df['totals.newVisits'].fillna(0, inplace=True) #filling NA's with 0\n",
    "    df['totals.transactions'].fillna(0, inplace=True) #filling NA's with 0\n",
    "    df['totals.timeOnSite'].fillna(0, inplace=True) #filling NA's with 0\n",
    "    \n",
    "#     df['totals.bounces'].fillna(0, inplace=True)   #filling NA's with 0\n",
    "#     df['trafficSource.isTrueDirect'].fillna(False, inplace=True) # filling boolean with False\n",
    "#     df['trafficSource.adwordsClickInfo.isVideoAd'].fillna(True, inplace=True) # filling boolean with True\n",
    "    df[\"totals.transactionRevenue\"] = df[\"totals.transactionRevenue\"].fillna(1.0).astype(float) #filling NA with zero\n",
    "    df['totals.pageviews'] = df['totals.pageviews'].astype(int) # setting numerical column as integer\n",
    "    df['totals.newVisits'] = df['totals.newVisits'].astype(int) # setting numerical column as integer\n",
    "#     df['totals.bounces'] = df['totals.bounces'].astype(int)  # setting numerical column as integer\n",
    "    df[\"totals.hits\"] = df[\"totals.hits\"].astype(float) # setting numerical to float\n",
    "    df['totals.visits'] = df['totals.visits'].astype(int) # seting as int\n",
    "\n",
    "    return df #return the transformed dataframe"
   ]
  },
  {
   "cell_type": "markdown",
   "metadata": {},
   "source": [
    "Normailize data"
   ]
  },
  {
   "cell_type": "code",
   "execution_count": 27,
   "metadata": {},
   "outputs": [],
   "source": [
    "from sklearn import preprocessing\n",
    "\n",
    "def Normalizing(df):\n",
    "    # Use MinMaxScaler to normalize the column\n",
    "    df[\"totals.hits\"] =  (df['totals.hits'] - min(df['totals.hits'])) / (max(df['totals.hits'])  - min(df['totals.hits']))\n",
    "    # normalizing the transaction Revenue\n",
    "    df['totals.transactionRevenue'] = df['totals.transactionRevenue'].apply(lambda x: np.log1p(x))\n",
    "    # return the modified df\n",
    "    return df "
   ]
  },
  {
   "cell_type": "code",
   "execution_count": 28,
   "metadata": {},
   "outputs": [],
   "source": [
    "df_train = NumericalColumns(df_train)\n",
    "df_test = NumericalColumns(df_test)\n"
   ]
  },
  {
   "cell_type": "code",
   "execution_count": null,
   "metadata": {},
   "outputs": [],
   "source": [
    "# df_train['totals.transactionRevenue']\n",
    "# df_train = Normalizing(df_train)\n",
    "# df_test = Normalizing(df_test)\n",
    "# df_train.columns"
   ]
  },
  {
   "cell_type": "markdown",
   "metadata": {},
   "source": [
    "Missing values"
   ]
  },
  {
   "cell_type": "code",
   "execution_count": null,
   "metadata": {},
   "outputs": [],
   "source": [
    "# def missing_values(data):\n",
    "#     total = data.isnull().sum().sort_values(ascending = False) # getting the sum of null values and ordering\n",
    "#     percent = (data.isnull().sum() / data.isnull().count() * 100 ).sort_values(ascending = False) #getting the percent and order of null\n",
    "#     df = pd.concat([total, percent], axis=1, keys=['Total', 'Percent']) # Concatenating the total and percent\n",
    "#     return "
   ]
  },
  {
   "cell_type": "code",
   "execution_count": null,
   "metadata": {},
   "outputs": [],
   "source": [
    "# calling the missing values function\n",
    "# missing_values(df_train) \n",
    "# missing_values(df_test) \n"
   ]
  },
  {
   "cell_type": "code",
   "execution_count": null,
   "metadata": {},
   "outputs": [],
   "source": [
    "# df_train = Normalizing(df_train)\n",
    "# df_test = Normalizing(df_test)"
   ]
  },
  {
   "cell_type": "code",
   "execution_count": null,
   "metadata": {},
   "outputs": [],
   "source": [
    "df_train.head().T.head(40)"
   ]
  },
  {
   "cell_type": "code",
   "execution_count": null,
   "metadata": {},
   "outputs": [],
   "source": [
    "df_test.head().T.head(40)"
   ]
  },
  {
   "cell_type": "code",
   "execution_count": 29,
   "metadata": {},
   "outputs": [],
   "source": [
    "cat_vars = ['channelGrouping', 'fullVisitorId', \n",
    "       'device.browser', 'device.operatingSystem',\n",
    "       'device.operatingSystemVersion', 'geoNetwork.city',\n",
    "       'geoNetwork.continent', 'geoNetwork.country', 'geoNetwork.region',\n",
    "       'geoNetwork.subContinent','_weekday','_day','_month','_year','_visitHour']\n",
    "contin_vars = ['totals.hits', 'totals.newVisits',\n",
    "       'totals.pageviews', 'totals.timeOnSite', \n",
    "       'totals.transactions', 'totals.visits']"
   ]
  },
  {
   "cell_type": "code",
   "execution_count": 30,
   "metadata": {},
   "outputs": [],
   "source": [
    "dep = 'totals.transactionRevenue'\n",
    "df_train = df_train[cat_vars+contin_vars+[dep, 'date']].copy()"
   ]
  },
  {
   "cell_type": "code",
   "execution_count": 31,
   "metadata": {},
   "outputs": [],
   "source": [
    "df_test[dep] = 0.0\n",
    "df_test = df_test[cat_vars+contin_vars+[dep, 'date']].copy()"
   ]
  },
  {
   "cell_type": "code",
   "execution_count": 32,
   "metadata": {},
   "outputs": [],
   "source": [
    "for v in cat_vars: df_train[v] = df_train[v].astype('category').cat.as_ordered()"
   ]
  },
  {
   "cell_type": "code",
   "execution_count": 33,
   "metadata": {},
   "outputs": [],
   "source": [
    "apply_cats(df_test, df_train)"
   ]
  },
  {
   "cell_type": "code",
   "execution_count": 34,
   "metadata": {},
   "outputs": [],
   "source": [
    "for v in contin_vars:\n",
    "    df_train[v] = df_train[v].fillna(0).astype('float32')\n",
    "    df_test[v] = df_test[v].fillna(0).astype('float32')"
   ]
  },
  {
   "cell_type": "code",
   "execution_count": 35,
   "metadata": {},
   "outputs": [],
   "source": [
    "samp_size = len(df_train)\n",
    "df_samp = df_train.set_index(\"date\")"
   ]
  },
  {
   "cell_type": "code",
   "execution_count": null,
   "metadata": {},
   "outputs": [],
   "source": [
    "df_samp.head(2)"
   ]
  },
  {
   "cell_type": "code",
   "execution_count": 36,
   "metadata": {},
   "outputs": [],
   "source": [
    "df, y, nas, mapper = proc_df(df_samp, 'totals.transactionRevenue', do_scale=True)\n",
    "yl = np.log(y)\n",
    "# yl = y"
   ]
  },
  {
   "cell_type": "code",
   "execution_count": 37,
   "metadata": {},
   "outputs": [],
   "source": [
    "df_test = df_test.set_index(\"date\")"
   ]
  },
  {
   "cell_type": "code",
   "execution_count": 38,
   "metadata": {},
   "outputs": [],
   "source": [
    "df_test, _, nas, mapper = proc_df(df_test, dep, do_scale=True,\n",
    "                                  mapper=mapper, na_dict=nas)"
   ]
  },
  {
   "cell_type": "code",
   "execution_count": null,
   "metadata": {},
   "outputs": [],
   "source": [
    "df_test.head(2)"
   ]
  },
  {
   "cell_type": "code",
   "execution_count": null,
   "metadata": {},
   "outputs": [],
   "source": [
    "df.head(2)"
   ]
  },
  {
   "cell_type": "code",
   "execution_count": 39,
   "metadata": {},
   "outputs": [],
   "source": [
    "train_ratio = 0.75\n",
    "# train_ratio = 0.9\n",
    "train_size = int(samp_size * train_ratio); train_size\n",
    "val_idx = list(range(train_size, len(df)))"
   ]
  },
  {
   "cell_type": "code",
   "execution_count": null,
   "metadata": {},
   "outputs": [],
   "source": [
    "# val_idx"
   ]
  },
  {
   "cell_type": "markdown",
   "metadata": {},
   "source": [
    "Root-mean-squared percent error is the metric Kaggle used for this competition."
   ]
  },
  {
   "cell_type": "code",
   "execution_count": 40,
   "metadata": {},
   "outputs": [],
   "source": [
    "def inv_y(a): return np.exp(a)\n",
    "\n",
    "def exp_rmspe(y_pred, targ):\n",
    "    targ = inv_y(targ)\n",
    "    pct_var = (targ - inv_y(y_pred))/targ\n",
    "    return math.sqrt((pct_var**2).mean())\n",
    "\n",
    "max_log_y = np.max(yl)\n",
    "y_range = (0, max_log_y*1.2)"
   ]
  },
  {
   "cell_type": "code",
   "execution_count": 41,
   "metadata": {},
   "outputs": [],
   "source": [
    "md = ColumnarModelData.from_data_frame(PATH, val_idx, df, yl.astype(np.float32), cat_flds=cat_vars, bs=128,\n",
    "                                       test_df=df_test)"
   ]
  },
  {
   "cell_type": "code",
   "execution_count": 42,
   "metadata": {},
   "outputs": [],
   "source": [
    "cat_sz = [(c, len(df_samp[c].cat.categories)+1) for c in cat_vars]"
   ]
  },
  {
   "cell_type": "code",
   "execution_count": 43,
   "metadata": {},
   "outputs": [
    {
     "data": {
      "text/plain": [
       "[('channelGrouping', 9),\n",
       " ('fullVisitorId', 114399),\n",
       " ('device.browser', 42),\n",
       " ('device.operatingSystem', 19),\n",
       " ('device.operatingSystemVersion', 2),\n",
       " ('geoNetwork.city', 746),\n",
       " ('geoNetwork.continent', 7),\n",
       " ('geoNetwork.country', 206),\n",
       " ('geoNetwork.region', 423),\n",
       " ('geoNetwork.subContinent', 24),\n",
       " ('_weekday', 8),\n",
       " ('_day', 32),\n",
       " ('_month', 13),\n",
       " ('_year', 4),\n",
       " ('_visitHour', 25)]"
      ]
     },
     "execution_count": 43,
     "metadata": {},
     "output_type": "execute_result"
    }
   ],
   "source": [
    "cat_sz"
   ]
  },
  {
   "cell_type": "code",
   "execution_count": 44,
   "metadata": {},
   "outputs": [],
   "source": [
    "emb_szs = [(c, min(50, (c+1)//2)) for _,c in cat_sz]"
   ]
  },
  {
   "cell_type": "code",
   "execution_count": 45,
   "metadata": {},
   "outputs": [
    {
     "data": {
      "text/plain": [
       "[(9, 5),\n",
       " (114399, 50),\n",
       " (42, 21),\n",
       " (19, 10),\n",
       " (2, 1),\n",
       " (746, 50),\n",
       " (7, 4),\n",
       " (206, 50),\n",
       " (423, 50),\n",
       " (24, 12),\n",
       " (8, 4),\n",
       " (32, 16),\n",
       " (13, 7),\n",
       " (4, 2),\n",
       " (25, 13)]"
      ]
     },
     "execution_count": 45,
     "metadata": {},
     "output_type": "execute_result"
    }
   ],
   "source": [
    "emb_szs"
   ]
  },
  {
   "cell_type": "code",
   "execution_count": 46,
   "metadata": {
    "scrolled": true
   },
   "outputs": [],
   "source": [
    "m = md.get_learner(emb_szs,len(df.columns)-len(cat_vars),0.04,1,[1000,500],[0.001,0.01])\n",
    "# m.summary()"
   ]
  },
  {
   "cell_type": "code",
   "execution_count": 47,
   "metadata": {},
   "outputs": [
    {
     "data": {
      "text/plain": [
       "MixedInputModel(\n",
       "  (embs): ModuleList(\n",
       "    (0): Embedding(9, 5)\n",
       "    (1): Embedding(114399, 50)\n",
       "    (2): Embedding(42, 21)\n",
       "    (3): Embedding(19, 10)\n",
       "    (4): Embedding(2, 1)\n",
       "    (5): Embedding(746, 50)\n",
       "    (6): Embedding(7, 4)\n",
       "    (7): Embedding(206, 50)\n",
       "    (8): Embedding(423, 50)\n",
       "    (9): Embedding(24, 12)\n",
       "    (10): Embedding(8, 4)\n",
       "    (11): Embedding(32, 16)\n",
       "    (12): Embedding(13, 7)\n",
       "    (13): Embedding(4, 2)\n",
       "    (14): Embedding(25, 13)\n",
       "  )\n",
       "  (lins): ModuleList(\n",
       "    (0): Linear(in_features=301, out_features=1000, bias=True)\n",
       "    (1): Linear(in_features=1000, out_features=500, bias=True)\n",
       "  )\n",
       "  (bns): ModuleList(\n",
       "    (0): BatchNorm1d(1000, eps=1e-05, momentum=0.1, affine=True)\n",
       "    (1): BatchNorm1d(500, eps=1e-05, momentum=0.1, affine=True)\n",
       "  )\n",
       "  (outp): Linear(in_features=500, out_features=1, bias=True)\n",
       "  (emb_drop): Dropout(p=0.04)\n",
       "  (drops): ModuleList(\n",
       "    (0): Dropout(p=0.001)\n",
       "    (1): Dropout(p=0.01)\n",
       "  )\n",
       "  (bn): BatchNorm1d(6, eps=1e-05, momentum=0.1, affine=True)\n",
       ")"
      ]
     },
     "execution_count": 47,
     "metadata": {},
     "output_type": "execute_result"
    }
   ],
   "source": [
    "m.model"
   ]
  },
  {
   "cell_type": "code",
   "execution_count": 48,
   "metadata": {},
   "outputs": [
    {
     "data": {
      "application/vnd.jupyter.widget-view+json": {
       "model_id": "49be26ff15ca465985efa8f6d7ac8e78",
       "version_major": 2,
       "version_minor": 0
      },
      "text/plain": [
       "HBox(children=(IntProgress(value=0, description='Epoch', max=1), HTML(value='')))"
      ]
     },
     "metadata": {},
     "output_type": "display_data"
    },
    {
     "name": "stdout",
     "output_type": "stream",
     "text": [
      " 50%|██████████████████████████████████▎                                 | 354/701 [00:11<00:10, 31.60it/s, loss=0.821]"
     ]
    }
   ],
   "source": [
    "lr=3e-6\n",
    "m.lr_find()"
   ]
  },
  {
   "cell_type": "code",
   "execution_count": 49,
   "metadata": {},
   "outputs": [
    {
     "data": {
      "image/png": "[encoded data removed]",
      "text/plain": [
       "<Figure size 432x288 with 1 Axes>"
      ]
     },
     "metadata": {},
     "output_type": "display_data"
    },
    {
     "name": "stdout",
     "output_type": "stream",
     "text": [
      "\r",
      " 50%|██████████████████████████████████▎                                 | 354/701 [00:30<00:29, 11.80it/s, loss=0.821]"
     ]
    }
   ],
   "source": [
    "m.sched.plot(100)"
   ]
  },
  {
   "cell_type": "code",
   "execution_count": 50,
   "metadata": {},
   "outputs": [],
   "source": [
    "m = md.get_learner(emb_szs, len(df.columns)-len(cat_vars),\n",
    "                   0.04, 1, [1000,500], [0.001,0.01], y_range=y_range)\n",
    "lr = 1e-3"
   ]
  },
  {
   "cell_type": "code",
   "execution_count": 51,
   "metadata": {},
   "outputs": [
    {
     "data": {
      "application/vnd.jupyter.widget-view+json": {
       "model_id": "c4324c6ee8c449d69c257402e5aa6631",
       "version_major": 2,
       "version_minor": 0
      },
      "text/plain": [
       "HBox(children=(IntProgress(value=0, description='Epoch', max=3), HTML(value='')))"
      ]
     },
     "metadata": {},
     "output_type": "display_data"
    },
    {
     "name": "stdout",
     "output_type": "stream",
     "text": [
      "epoch      trn_loss   val_loss   exp_rmspe                                                                             \n",
      "    0      2.666075   3.237321   0.088223  \n",
      "    1      3.477633   3.237321   0.088219                                                                              \n",
      "    2      3.340194   3.237321   0.088208                                                                              \n"
     ]
    },
    {
     "data": {
      "text/plain": [
       "[array([3.23732]), 0.08820782337029441]"
      ]
     },
     "execution_count": 51,
     "metadata": {},
     "output_type": "execute_result"
    }
   ],
   "source": [
    "m.fit(lr, 3, metrics=[exp_rmspe])"
   ]
  },
  {
   "cell_type": "code",
   "execution_count": 52,
   "metadata": {},
   "outputs": [],
   "source": [
    "m.save('model-50')"
   ]
  },
  {
   "cell_type": "code",
   "execution_count": 53,
   "metadata": {},
   "outputs": [],
   "source": [
    "m.load('model-50')"
   ]
  },
  {
   "cell_type": "code",
   "execution_count": 54,
   "metadata": {},
   "outputs": [],
   "source": [
    "x,y=m.predict_with_targs()"
   ]
  },
  {
   "cell_type": "code",
   "execution_count": 55,
   "metadata": {},
   "outputs": [
    {
     "data": {
      "text/plain": [
       "0.10102731657704472"
      ]
     },
     "execution_count": 55,
     "metadata": {},
     "output_type": "execute_result"
    }
   ],
   "source": [
    "exp_rmspe(x,y)"
   ]
  },
  {
   "cell_type": "code",
   "execution_count": 58,
   "metadata": {},
   "outputs": [],
   "source": [
    "pred_test=m.predict(True)\n",
    "pred_test = np.exp(pred_test)"
   ]
  },
  {
   "cell_type": "code",
   "execution_count": 59,
   "metadata": {},
   "outputs": [],
   "source": [
    "df_test[dep]=pred_test"
   ]
  },
  {
   "cell_type": "code",
   "execution_count": 62,
   "metadata": {},
   "outputs": [],
   "source": [
    "csv_fn=f'{PATH}/tmp/sub.csv'"
   ]
  },
  {
   "cell_type": "code",
   "execution_count": 63,
   "metadata": {},
   "outputs": [],
   "source": [
    "df_test[['fullVisitorId',dep]].to_csv(csv_fn, index=False)"
   ]
  },
  {
   "cell_type": "code",
   "execution_count": null,
   "metadata": {},
   "outputs": [],
   "source": []
  }
 ],
 "metadata": {
  "kernelspec": {
   "display_name": "Python 3",
   "language": "python",
   "name": "python3"
  },
  "language_info": {
   "codemirror_mode": {
    "name": "ipython",
    "version": 3
   },
   "file_extension": ".py",
   "mimetype": "text/x-python",
   "name": "python",
   "nbconvert_exporter": "python",
   "pygments_lexer": "ipython3",
   "version": "3.6.5"
  }
 },
 "nbformat": 4,
 "nbformat_minor": 2
}
